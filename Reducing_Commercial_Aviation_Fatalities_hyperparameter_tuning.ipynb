{
  "nbformat": 4,
  "nbformat_minor": 0,
  "metadata": {
    "colab": {
      "name": "Reducing_Commercial_Aviation_Fatalities_hyperparameter_tuning.ipynb",
      "provenance": [],
      "collapsed_sections": [],
      "machine_shape": "hm"
    },
    "kernelspec": {
      "name": "python3",
      "display_name": "Python 3"
    },
    "accelerator": "TPU"
  },
  "cells": [
    {
      "cell_type": "code",
      "metadata": {
        "id": "qlfIZbfACfSP",
        "colab_type": "code",
        "colab": {
          "base_uri": "https://localhost:8080/",
          "height": 34
        },
        "outputId": "861fa230-742b-4597-b69e-dcaeb60c0657"
      },
      "source": [
        "from google.colab import drive\n",
        "drive.mount('/content/gdrive')"
      ],
      "execution_count": 1,
      "outputs": [
        {
          "output_type": "stream",
          "text": [
            "Mounted at /content/gdrive\n"
          ],
          "name": "stdout"
        }
      ]
    },
    {
      "cell_type": "code",
      "metadata": {
        "id": "jZ_z-j9pC3wq",
        "colab_type": "code",
        "colab": {
          "base_uri": "https://localhost:8080/",
          "height": 34
        },
        "outputId": "52780e75-54b6-4ef4-fb8f-67566dc99f74"
      },
      "source": [
        "import os\n",
        "os.environ['KAGGLE_CONFIG_DIR'] = \"/content\"\n",
        "%cd /content"
      ],
      "execution_count": 2,
      "outputs": [
        {
          "output_type": "stream",
          "text": [
            "/content\n"
          ],
          "name": "stdout"
        }
      ]
    },
    {
      "cell_type": "code",
      "metadata": {
        "id": "vZNcNHKyC6yN",
        "colab_type": "code",
        "colab": {
          "base_uri": "https://localhost:8080/",
          "height": 221
        },
        "outputId": "703dbf51-094c-4c7a-cbee-d74b87f412a3"
      },
      "source": [
        "!pip install kaggle"
      ],
      "execution_count": 3,
      "outputs": [
        {
          "output_type": "stream",
          "text": [
            "Requirement already satisfied: kaggle in /usr/local/lib/python3.6/dist-packages (1.5.8)\n",
            "Requirement already satisfied: python-dateutil in /usr/local/lib/python3.6/dist-packages (from kaggle) (2.8.1)\n",
            "Requirement already satisfied: python-slugify in /usr/local/lib/python3.6/dist-packages (from kaggle) (4.0.1)\n",
            "Requirement already satisfied: six>=1.10 in /usr/local/lib/python3.6/dist-packages (from kaggle) (1.15.0)\n",
            "Requirement already satisfied: certifi in /usr/local/lib/python3.6/dist-packages (from kaggle) (2020.6.20)\n",
            "Requirement already satisfied: slugify in /usr/local/lib/python3.6/dist-packages (from kaggle) (0.0.1)\n",
            "Requirement already satisfied: urllib3<1.25,>=1.21.1 in /usr/local/lib/python3.6/dist-packages (from kaggle) (1.24.3)\n",
            "Requirement already satisfied: tqdm in /usr/local/lib/python3.6/dist-packages (from kaggle) (4.41.1)\n",
            "Requirement already satisfied: requests in /usr/local/lib/python3.6/dist-packages (from kaggle) (2.23.0)\n",
            "Requirement already satisfied: text-unidecode>=1.3 in /usr/local/lib/python3.6/dist-packages (from python-slugify->kaggle) (1.3)\n",
            "Requirement already satisfied: chardet<4,>=3.0.2 in /usr/local/lib/python3.6/dist-packages (from requests->kaggle) (3.0.4)\n",
            "Requirement already satisfied: idna<3,>=2.5 in /usr/local/lib/python3.6/dist-packages (from requests->kaggle) (2.10)\n"
          ],
          "name": "stdout"
        }
      ]
    },
    {
      "cell_type": "code",
      "metadata": {
        "id": "8gLJsWVQDAKp",
        "colab_type": "code",
        "colab": {
          "resources": {
            "http://localhost:8080/nbextensions/google.colab/files.js": {
              "data": "Ly8gQ29weXJpZ2h0IDIwMTcgR29vZ2xlIExMQwovLwovLyBMaWNlbnNlZCB1bmRlciB0aGUgQXBhY2hlIExpY2Vuc2UsIFZlcnNpb24gMi4wICh0aGUgIkxpY2Vuc2UiKTsKLy8geW91IG1heSBub3QgdXNlIHRoaXMgZmlsZSBleGNlcHQgaW4gY29tcGxpYW5jZSB3aXRoIHRoZSBMaWNlbnNlLgovLyBZb3UgbWF5IG9idGFpbiBhIGNvcHkgb2YgdGhlIExpY2Vuc2UgYXQKLy8KLy8gICAgICBodHRwOi8vd3d3LmFwYWNoZS5vcmcvbGljZW5zZXMvTElDRU5TRS0yLjAKLy8KLy8gVW5sZXNzIHJlcXVpcmVkIGJ5IGFwcGxpY2FibGUgbGF3IG9yIGFncmVlZCB0byBpbiB3cml0aW5nLCBzb2Z0d2FyZQovLyBkaXN0cmlidXRlZCB1bmRlciB0aGUgTGljZW5zZSBpcyBkaXN0cmlidXRlZCBvbiBhbiAiQVMgSVMiIEJBU0lTLAovLyBXSVRIT1VUIFdBUlJBTlRJRVMgT1IgQ09ORElUSU9OUyBPRiBBTlkgS0lORCwgZWl0aGVyIGV4cHJlc3Mgb3IgaW1wbGllZC4KLy8gU2VlIHRoZSBMaWNlbnNlIGZvciB0aGUgc3BlY2lmaWMgbGFuZ3VhZ2UgZ292ZXJuaW5nIHBlcm1pc3Npb25zIGFuZAovLyBsaW1pdGF0aW9ucyB1bmRlciB0aGUgTGljZW5zZS4KCi8qKgogKiBAZmlsZW92ZXJ2aWV3IEhlbHBlcnMgZm9yIGdvb2dsZS5jb2xhYiBQeXRob24gbW9kdWxlLgogKi8KKGZ1bmN0aW9uKHNjb3BlKSB7CmZ1bmN0aW9uIHNwYW4odGV4dCwgc3R5bGVBdHRyaWJ1dGVzID0ge30pIHsKICBjb25zdCBlbGVtZW50ID0gZG9jdW1lbnQuY3JlYXRlRWxlbWVudCgnc3BhbicpOwogIGVsZW1lbnQudGV4dENvbnRlbnQgPSB0ZXh0OwogIGZvciAoY29uc3Qga2V5IG9mIE9iamVjdC5rZXlzKHN0eWxlQXR0cmlidXRlcykpIHsKICAgIGVsZW1lbnQuc3R5bGVba2V5XSA9IHN0eWxlQXR0cmlidXRlc1trZXldOwogIH0KICByZXR1cm4gZWxlbWVudDsKfQoKLy8gTWF4IG51bWJlciBvZiBieXRlcyB3aGljaCB3aWxsIGJlIHVwbG9hZGVkIGF0IGEgdGltZS4KY29uc3QgTUFYX1BBWUxPQURfU0laRSA9IDEwMCAqIDEwMjQ7CgpmdW5jdGlvbiBfdXBsb2FkRmlsZXMoaW5wdXRJZCwgb3V0cHV0SWQpIHsKICBjb25zdCBzdGVwcyA9IHVwbG9hZEZpbGVzU3RlcChpbnB1dElkLCBvdXRwdXRJZCk7CiAgY29uc3Qgb3V0cHV0RWxlbWVudCA9IGRvY3VtZW50LmdldEVsZW1lbnRCeUlkKG91dHB1dElkKTsKICAvLyBDYWNoZSBzdGVwcyBvbiB0aGUgb3V0cHV0RWxlbWVudCB0byBtYWtlIGl0IGF2YWlsYWJsZSBmb3IgdGhlIG5leHQgY2FsbAogIC8vIHRvIHVwbG9hZEZpbGVzQ29udGludWUgZnJvbSBQeXRob24uCiAgb3V0cHV0RWxlbWVudC5zdGVwcyA9IHN0ZXBzOwoKICByZXR1cm4gX3VwbG9hZEZpbGVzQ29udGludWUob3V0cHV0SWQpOwp9CgovLyBUaGlzIGlzIHJvdWdobHkgYW4gYXN5bmMgZ2VuZXJhdG9yIChub3Qgc3VwcG9ydGVkIGluIHRoZSBicm93c2VyIHlldCksCi8vIHdoZXJlIHRoZXJlIGFyZSBtdWx0aXBsZSBhc3luY2hyb25vdXMgc3RlcHMgYW5kIHRoZSBQeXRob24gc2lkZSBpcyBnb2luZwovLyB0byBwb2xsIGZvciBjb21wbGV0aW9uIG9mIGVhY2ggc3RlcC4KLy8gVGhpcyB1c2VzIGEgUHJvbWlzZSB0byBibG9jayB0aGUgcHl0aG9uIHNpZGUgb24gY29tcGxldGlvbiBvZiBlYWNoIHN0ZXAsCi8vIHRoZW4gcGFzc2VzIHRoZSByZXN1bHQgb2YgdGhlIHByZXZpb3VzIHN0ZXAgYXMgdGhlIGlucHV0IHRvIHRoZSBuZXh0IHN0ZXAuCmZ1bmN0aW9uIF91cGxvYWRGaWxlc0NvbnRpbnVlKG91dHB1dElkKSB7CiAgY29uc3Qgb3V0cHV0RWxlbWVudCA9IGRvY3VtZW50LmdldEVsZW1lbnRCeUlkKG91dHB1dElkKTsKICBjb25zdCBzdGVwcyA9IG91dHB1dEVsZW1lbnQuc3RlcHM7CgogIGNvbnN0IG5leHQgPSBzdGVwcy5uZXh0KG91dHB1dEVsZW1lbnQubGFzdFByb21pc2VWYWx1ZSk7CiAgcmV0dXJuIFByb21pc2UucmVzb2x2ZShuZXh0LnZhbHVlLnByb21pc2UpLnRoZW4oKHZhbHVlKSA9PiB7CiAgICAvLyBDYWNoZSB0aGUgbGFzdCBwcm9taXNlIHZhbHVlIHRvIG1ha2UgaXQgYXZhaWxhYmxlIHRvIHRoZSBuZXh0CiAgICAvLyBzdGVwIG9mIHRoZSBnZW5lcmF0b3IuCiAgICBvdXRwdXRFbGVtZW50Lmxhc3RQcm9taXNlVmFsdWUgPSB2YWx1ZTsKICAgIHJldHVybiBuZXh0LnZhbHVlLnJlc3BvbnNlOwogIH0pOwp9CgovKioKICogR2VuZXJhdG9yIGZ1bmN0aW9uIHdoaWNoIGlzIGNhbGxlZCBiZXR3ZWVuIGVhY2ggYXN5bmMgc3RlcCBvZiB0aGUgdXBsb2FkCiAqIHByb2Nlc3MuCiAqIEBwYXJhbSB7c3RyaW5nfSBpbnB1dElkIEVsZW1lbnQgSUQgb2YgdGhlIGlucHV0IGZpbGUgcGlja2VyIGVsZW1lbnQuCiAqIEBwYXJhbSB7c3RyaW5nfSBvdXRwdXRJZCBFbGVtZW50IElEIG9mIHRoZSBvdXRwdXQgZGlzcGxheS4KICogQHJldHVybiB7IUl0ZXJhYmxlPCFPYmplY3Q+fSBJdGVyYWJsZSBvZiBuZXh0IHN0ZXBzLgogKi8KZnVuY3Rpb24qIHVwbG9hZEZpbGVzU3RlcChpbnB1dElkLCBvdXRwdXRJZCkgewogIGNvbnN0IGlucHV0RWxlbWVudCA9IGRvY3VtZW50LmdldEVsZW1lbnRCeUlkKGlucHV0SWQpOwogIGlucHV0RWxlbWVudC5kaXNhYmxlZCA9IGZhbHNlOwoKICBjb25zdCBvdXRwdXRFbGVtZW50ID0gZG9jdW1lbnQuZ2V0RWxlbWVudEJ5SWQob3V0cHV0SWQpOwogIG91dHB1dEVsZW1lbnQuaW5uZXJIVE1MID0gJyc7CgogIGNvbnN0IHBpY2tlZFByb21pc2UgPSBuZXcgUHJvbWlzZSgocmVzb2x2ZSkgPT4gewogICAgaW5wdXRFbGVtZW50LmFkZEV2ZW50TGlzdGVuZXIoJ2NoYW5nZScsIChlKSA9PiB7CiAgICAgIHJlc29sdmUoZS50YXJnZXQuZmlsZXMpOwogICAgfSk7CiAgfSk7CgogIGNvbnN0IGNhbmNlbCA9IGRvY3VtZW50LmNyZWF0ZUVsZW1lbnQoJ2J1dHRvbicpOwogIGlucHV0RWxlbWVudC5wYXJlbnRFbGVtZW50LmFwcGVuZENoaWxkKGNhbmNlbCk7CiAgY2FuY2VsLnRleHRDb250ZW50ID0gJ0NhbmNlbCB1cGxvYWQnOwogIGNvbnN0IGNhbmNlbFByb21pc2UgPSBuZXcgUHJvbWlzZSgocmVzb2x2ZSkgPT4gewogICAgY2FuY2VsLm9uY2xpY2sgPSAoKSA9PiB7CiAgICAgIHJlc29sdmUobnVsbCk7CiAgICB9OwogIH0pOwoKICAvLyBXYWl0IGZvciB0aGUgdXNlciB0byBwaWNrIHRoZSBmaWxlcy4KICBjb25zdCBmaWxlcyA9IHlpZWxkIHsKICAgIHByb21pc2U6IFByb21pc2UucmFjZShbcGlja2VkUHJvbWlzZSwgY2FuY2VsUHJvbWlzZV0pLAogICAgcmVzcG9uc2U6IHsKICAgICAgYWN0aW9uOiAnc3RhcnRpbmcnLAogICAgfQogIH07CgogIGNhbmNlbC5yZW1vdmUoKTsKCiAgLy8gRGlzYWJsZSB0aGUgaW5wdXQgZWxlbWVudCBzaW5jZSBmdXJ0aGVyIHBpY2tzIGFyZSBub3QgYWxsb3dlZC4KICBpbnB1dEVsZW1lbnQuZGlzYWJsZWQgPSB0cnVlOwoKICBpZiAoIWZpbGVzKSB7CiAgICByZXR1cm4gewogICAgICByZXNwb25zZTogewogICAgICAgIGFjdGlvbjogJ2NvbXBsZXRlJywKICAgICAgfQogICAgfTsKICB9CgogIGZvciAoY29uc3QgZmlsZSBvZiBmaWxlcykgewogICAgY29uc3QgbGkgPSBkb2N1bWVudC5jcmVhdGVFbGVtZW50KCdsaScpOwogICAgbGkuYXBwZW5kKHNwYW4oZmlsZS5uYW1lLCB7Zm9udFdlaWdodDogJ2JvbGQnfSkpOwogICAgbGkuYXBwZW5kKHNwYW4oCiAgICAgICAgYCgke2ZpbGUudHlwZSB8fCAnbi9hJ30pIC0gJHtmaWxlLnNpemV9IGJ5dGVzLCBgICsKICAgICAgICBgbGFzdCBtb2RpZmllZDogJHsKICAgICAgICAgICAgZmlsZS5sYXN0TW9kaWZpZWREYXRlID8gZmlsZS5sYXN0TW9kaWZpZWREYXRlLnRvTG9jYWxlRGF0ZVN0cmluZygpIDoKICAgICAgICAgICAgICAgICAgICAgICAgICAgICAgICAgICAgJ24vYSd9IC0gYCkpOwogICAgY29uc3QgcGVyY2VudCA9IHNwYW4oJzAlIGRvbmUnKTsKICAgIGxpLmFwcGVuZENoaWxkKHBlcmNlbnQpOwoKICAgIG91dHB1dEVsZW1lbnQuYXBwZW5kQ2hpbGQobGkpOwoKICAgIGNvbnN0IGZpbGVEYXRhUHJvbWlzZSA9IG5ldyBQcm9taXNlKChyZXNvbHZlKSA9PiB7CiAgICAgIGNvbnN0IHJlYWRlciA9IG5ldyBGaWxlUmVhZGVyKCk7CiAgICAgIHJlYWRlci5vbmxvYWQgPSAoZSkgPT4gewogICAgICAgIHJlc29sdmUoZS50YXJnZXQucmVzdWx0KTsKICAgICAgfTsKICAgICAgcmVhZGVyLnJlYWRBc0FycmF5QnVmZmVyKGZpbGUpOwogICAgfSk7CiAgICAvLyBXYWl0IGZvciB0aGUgZGF0YSB0byBiZSByZWFkeS4KICAgIGxldCBmaWxlRGF0YSA9IHlpZWxkIHsKICAgICAgcHJvbWlzZTogZmlsZURhdGFQcm9taXNlLAogICAgICByZXNwb25zZTogewogICAgICAgIGFjdGlvbjogJ2NvbnRpbnVlJywKICAgICAgfQogICAgfTsKCiAgICAvLyBVc2UgYSBjaHVua2VkIHNlbmRpbmcgdG8gYXZvaWQgbWVzc2FnZSBzaXplIGxpbWl0cy4gU2VlIGIvNjIxMTU2NjAuCiAgICBsZXQgcG9zaXRpb24gPSAwOwogICAgd2hpbGUgKHBvc2l0aW9uIDwgZmlsZURhdGEuYnl0ZUxlbmd0aCkgewogICAgICBjb25zdCBsZW5ndGggPSBNYXRoLm1pbihmaWxlRGF0YS5ieXRlTGVuZ3RoIC0gcG9zaXRpb24sIE1BWF9QQVlMT0FEX1NJWkUpOwogICAgICBjb25zdCBjaHVuayA9IG5ldyBVaW50OEFycmF5KGZpbGVEYXRhLCBwb3NpdGlvbiwgbGVuZ3RoKTsKICAgICAgcG9zaXRpb24gKz0gbGVuZ3RoOwoKICAgICAgY29uc3QgYmFzZTY0ID0gYnRvYShTdHJpbmcuZnJvbUNoYXJDb2RlLmFwcGx5KG51bGwsIGNodW5rKSk7CiAgICAgIHlpZWxkIHsKICAgICAgICByZXNwb25zZTogewogICAgICAgICAgYWN0aW9uOiAnYXBwZW5kJywKICAgICAgICAgIGZpbGU6IGZpbGUubmFtZSwKICAgICAgICAgIGRhdGE6IGJhc2U2NCwKICAgICAgICB9LAogICAgICB9OwogICAgICBwZXJjZW50LnRleHRDb250ZW50ID0KICAgICAgICAgIGAke01hdGgucm91bmQoKHBvc2l0aW9uIC8gZmlsZURhdGEuYnl0ZUxlbmd0aCkgKiAxMDApfSUgZG9uZWA7CiAgICB9CiAgfQoKICAvLyBBbGwgZG9uZS4KICB5aWVsZCB7CiAgICByZXNwb25zZTogewogICAgICBhY3Rpb246ICdjb21wbGV0ZScsCiAgICB9CiAgfTsKfQoKc2NvcGUuZ29vZ2xlID0gc2NvcGUuZ29vZ2xlIHx8IHt9OwpzY29wZS5nb29nbGUuY29sYWIgPSBzY29wZS5nb29nbGUuY29sYWIgfHwge307CnNjb3BlLmdvb2dsZS5jb2xhYi5fZmlsZXMgPSB7CiAgX3VwbG9hZEZpbGVzLAogIF91cGxvYWRGaWxlc0NvbnRpbnVlLAp9Owp9KShzZWxmKTsK",
              "ok": true,
              "headers": [
                [
                  "content-type",
                  "application/javascript"
                ]
              ],
              "status": 200,
              "status_text": ""
            }
          },
          "base_uri": "https://localhost:8080/",
          "height": 89
        },
        "outputId": "be7b2916-74ab-40a4-eeb0-7f9ef6f3888b"
      },
      "source": [
        "from google.colab import files\n",
        "files.upload()"
      ],
      "execution_count": 2,
      "outputs": [
        {
          "output_type": "display_data",
          "data": {
            "text/html": [
              "\n",
              "     <input type=\"file\" id=\"files-8ba7f639-d047-4c7e-b47b-144015d23837\" name=\"files[]\" multiple disabled\n",
              "        style=\"border:none\" />\n",
              "     <output id=\"result-8ba7f639-d047-4c7e-b47b-144015d23837\">\n",
              "      Upload widget is only available when the cell has been executed in the\n",
              "      current browser session. Please rerun this cell to enable.\n",
              "      </output>\n",
              "      <script src=\"/nbextensions/google.colab/files.js\"></script> "
            ],
            "text/plain": [
              "<IPython.core.display.HTML object>"
            ]
          },
          "metadata": {
            "tags": []
          }
        },
        {
          "output_type": "stream",
          "text": [
            "Saving kaggle.json to kaggle.json\n"
          ],
          "name": "stdout"
        },
        {
          "output_type": "execute_result",
          "data": {
            "text/plain": [
              "{'kaggle.json': b'{\"username\":\"sankalpchawla\",\"key\":\"1d2fc96a3f385db0c3807663a6ffb2c5\"}'}"
            ]
          },
          "metadata": {
            "tags": []
          },
          "execution_count": 2
        }
      ]
    },
    {
      "cell_type": "code",
      "metadata": {
        "id": "2TaCr3TBDAy8",
        "colab_type": "code",
        "colab": {
          "base_uri": "https://localhost:8080/",
          "height": 34
        },
        "outputId": "49de19b8-105c-4c93-cd7f-4b96a52fe65e"
      },
      "source": [
        "!pip install -q kaggle\n",
        "!mkdir -p ~/.kaggle\n",
        "!cp kaggle.json ~/.kaggle/\n",
        "!ls ~/.kaggle\n",
        "!chmod 600 /root/.kaggle/kaggle.json"
      ],
      "execution_count": 3,
      "outputs": [
        {
          "output_type": "stream",
          "text": [
            "kaggle.json\n"
          ],
          "name": "stdout"
        }
      ]
    },
    {
      "cell_type": "code",
      "metadata": {
        "id": "wA44jxn4DGWt",
        "colab_type": "code",
        "colab": {}
      },
      "source": [
        "!unzip -q \"/content/gdrive/My Drive/train.csv.zip\" -d \"/content/\""
      ],
      "execution_count": 4,
      "outputs": []
    },
    {
      "cell_type": "code",
      "metadata": {
        "id": "NHhAuOT7DHJU",
        "colab_type": "code",
        "colab": {}
      },
      "source": [
        "!unzip -q \"/content/gdrive/My Drive/test.csv.zip\" -d \"/content/\""
      ],
      "execution_count": 5,
      "outputs": []
    },
    {
      "cell_type": "code",
      "metadata": {
        "id": "JrgjHF3NDUXm",
        "colab_type": "code",
        "colab": {
          "base_uri": "https://localhost:8080/",
          "height": 173
        },
        "outputId": "8ad968da-92ec-4d6e-d6f7-858fec2ec9c4"
      },
      "source": [
        "import pandas as pd\n",
        "import numpy as np\n",
        "import matplotlib.pyplot as plt\n",
        "import seaborn as sns\n",
        "from sklearn.preprocessing import LabelEncoder\n",
        "from sklearn.decomposition import PCA\n",
        "from sklearn.preprocessing import StandardScaler\n",
        "from sklearn.manifold import TSNE\n",
        "from scipy import stats\n",
        "import imblearn\n",
        "import warnings\n",
        "import math\n",
        "import pickle\n",
        "from sklearn.externals import joblib \n",
        "from sklearn.model_selection import GridSearchCV, RandomizedSearchCV\n",
        "from sklearn.tree import DecisionTreeClassifier\n",
        "from sklearn.linear_model import LogisticRegression\n",
        "from sklearn.svm import SVC \n",
        "from sklearn.ensemble import RandomForestClassifier\n",
        "from sklearn.metrics import log_loss\n",
        "from prettytable import PrettyTable\n",
        "import lightgbm as lgb\n",
        "from imblearn.over_sampling import SMOTE\n",
        "from sklearn.model_selection import train_test_split \n",
        "warnings.filterwarnings('ignore')\n",
        "from sklearn.preprocessing import MinMaxScaler"
      ],
      "execution_count": 6,
      "outputs": [
        {
          "output_type": "stream",
          "text": [
            "/usr/local/lib/python3.6/dist-packages/statsmodels/tools/_testing.py:19: FutureWarning: pandas.util.testing is deprecated. Use the functions in the public API at pandas.testing instead.\n",
            "  import pandas.util.testing as tm\n",
            "/usr/local/lib/python3.6/dist-packages/sklearn/externals/six.py:31: FutureWarning: The module is deprecated in version 0.21 and will be removed in version 0.23 since we've dropped support for Python 2.7. Please rely on the official version of six (https://pypi.org/project/six/).\n",
            "  \"(https://pypi.org/project/six/).\", FutureWarning)\n",
            "/usr/local/lib/python3.6/dist-packages/sklearn/utils/deprecation.py:144: FutureWarning: The sklearn.neighbors.base module is  deprecated in version 0.22 and will be removed in version 0.24. The corresponding classes / functions should instead be imported from sklearn.neighbors. Anything that cannot be imported from sklearn.neighbors is now part of the private API.\n",
            "  warnings.warn(message, FutureWarning)\n",
            "/usr/local/lib/python3.6/dist-packages/sklearn/externals/joblib/__init__.py:15: FutureWarning: sklearn.externals.joblib is deprecated in 0.21 and will be removed in 0.23. Please import this functionality directly from joblib, which can be installed with: pip install joblib. If this warning is raised when loading pickled models, you may need to re-serialize those models with scikit-learn 0.21+.\n",
            "  warnings.warn(msg, category=FutureWarning)\n"
          ],
          "name": "stderr"
        }
      ]
    },
    {
      "cell_type": "code",
      "metadata": {
        "id": "sAk1s-cpE9Fp",
        "colab_type": "code",
        "colab": {}
      },
      "source": [
        "df_train = pd.read_csv('/content/train.csv')\n",
        "df_test = pd.read_csv('/content/test.csv')"
      ],
      "execution_count": 50,
      "outputs": []
    },
    {
      "cell_type": "markdown",
      "metadata": {
        "id": "E6cc1xCslpZ7",
        "colab_type": "text"
      },
      "source": [
        "*Approach 1*"
      ]
    },
    {
      "cell_type": "code",
      "metadata": {
        "id": "sTRR2iRODlnU",
        "colab_type": "code",
        "colab": {}
      },
      "source": [
        "df_train['pilot'] = 100 * df_train['seat'] + df_train['crew']\n",
        "df_test['pilot'] = 100 * df_test['seat'] + df_test['crew']"
      ],
      "execution_count": 86,
      "outputs": []
    },
    {
      "cell_type": "code",
      "metadata": {
        "id": "xNrS4hTcD-OS",
        "colab_type": "code",
        "colab": {}
      },
      "source": [
        "# df_train['experiment'] = df_train['experiment'].map({'CA': 0, 'DA': 1, 'SS': 2, 'LOFT': 3})\n",
        "# df_train[\"experiment\"] = df_train[\"experiment\"].astype('int8')\n",
        "# df_train['event'] = df_train['event'].map({'A': 3, 'B': 2, 'C': 0, 'D': 1})\n",
        "# df_train[\"event\"] = df_train[\"event\"].astype('int8')\n",
        "df_train['experiment'] = df_train['experiment'].map({'CA': 2, 'DA': 3, 'SS': 1, 'LOFT': 0})\n",
        "df_train[\"experiment\"] = df_train[\"experiment\"].astype('int8')\n",
        "df_train['event'] = df_train['event'].map({'A': 0, 'B': 1, 'C': 2, 'D': 3})\n",
        "df_train[\"event\"] = df_train[\"event\"].astype('int8')\n",
        "y = df_train['event']\n",
        "\n",
        "df_test['experiment'] = df_test['experiment'].map({'CA': 2, 'DA': 3, 'SS': 1, 'LOFT': 0})\n",
        "df_test[\"experiment\"] = df_test[\"experiment\"].astype('int8')"
      ],
      "execution_count": 87,
      "outputs": []
    },
    {
      "cell_type": "code",
      "metadata": {
        "id": "SfZWnvZDEJK2",
        "colab_type": "code",
        "colab": {}
      },
      "source": [
        "df_test_id = df_test['id']\n",
        "df_test = df_test.drop('id',axis=1)\n",
        "df_train = df_train.drop('event',axis=1)"
      ],
      "execution_count": 88,
      "outputs": []
    },
    {
      "cell_type": "code",
      "metadata": {
        "id": "NGHPP9KPJo9L",
        "colab_type": "code",
        "colab": {}
      },
      "source": [
        "# train, train_test, y, y_test = train_test_split(train, y, test_size=0.25, shuffle=False)\n",
        "X_train, X_test, y_train, y_test = train_test_split(df_train, y,test_size=0.25, shuffle=False)"
      ],
      "execution_count": 89,
      "outputs": []
    },
    {
      "cell_type": "code",
      "metadata": {
        "id": "PoC62zD3ERbo",
        "colab_type": "code",
        "colab": {}
      },
      "source": [
        "train, test = train_test_split(df_train, test_size=0.2, shuffle=False,random_state=42)"
      ],
      "execution_count": 15,
      "outputs": []
    },
    {
      "cell_type": "code",
      "metadata": {
        "id": "jDaFx7nRETiX",
        "colab_type": "code",
        "colab": {
          "base_uri": "https://localhost:8080/",
          "height": 51
        },
        "outputId": "597ca11d-f2e4-4bbf-f5b0-216b56704fc9"
      },
      "source": [
        "# X_train = train.loc[:, df_train.columns != 'event']\n",
        "# y_train = train.event\n",
        "\n",
        "# X_test = test.loc[:, df_train.columns != 'event']\n",
        "# y_test = test.event\n",
        "\n",
        "print(X_train.shape,y_train.shape)\n",
        "print(X_test.shape,y_test.shape)"
      ],
      "execution_count": 72,
      "outputs": [
        {
          "output_type": "stream",
          "text": [
            "(3650565, 27) (3650565,)\n",
            "(1216856, 27) (1216856,)\n"
          ],
          "name": "stdout"
        }
      ]
    },
    {
      "cell_type": "code",
      "metadata": {
        "id": "_edts4DYEcsA",
        "colab_type": "code",
        "colab": {}
      },
      "source": [
        "lgbtrain = lgb.Dataset(X_train, y_train,categorical_feature=[1])\n",
        "lgbtest = lgb.Dataset(X_test, y_test,categorical_feature=[1])\n",
        "# lgbtrain = lgb.Dataset(X_train, y_train)\n",
        "# lgbtest = lgb.Dataset(X_test, y_test)"
      ],
      "execution_count": 94,
      "outputs": []
    },
    {
      "cell_type": "code",
      "metadata": {
        "id": "SSPf4XFKEhvq",
        "colab_type": "code",
        "colab": {
          "base_uri": "https://localhost:8080/",
          "height": 357
        },
        "outputId": "dc07faea-6715-434f-afb8-6f01c1bdd822"
      },
      "source": [
        "params = {'bagging_fraction': 0.9,\n",
        " 'bagging_seed': 0,\n",
        " 'boosting_type': 'gbdt',\n",
        " 'learning_rate': 0.01,\n",
        " 'metric': 'multi_error',\n",
        " 'num_class': 4,\n",
        " 'num_leaves': 10,\n",
        " 'num_threads' : 4,\n",
        " 'colsample_bytree' : 0.5,\n",
        " 'objective': 'multiclass',\n",
        " 'min_data_in_leaf':100,\n",
        " 'min_split_gain':0.0002\n",
        "}\n",
        "\n",
        "model_lgb = lgb.train(params, lgbtrain, 2000, valid_sets=[lgbtrain,lgbtest], early_stopping_rounds=200, verbose_eval=100)"
      ],
      "execution_count": 95,
      "outputs": [
        {
          "output_type": "stream",
          "text": [
            "Training until validation scores don't improve for 200 rounds.\n",
            "[100]\ttraining's multi_error: 0.0736081\tvalid_1's multi_error: 0.0838012\n",
            "[200]\ttraining's multi_error: 0.0669611\tvalid_1's multi_error: 0.0837774\n",
            "[300]\ttraining's multi_error: 0.0525864\tvalid_1's multi_error: 0.0830123\n",
            "[400]\ttraining's multi_error: 0.0501473\tvalid_1's multi_error: 0.0822768\n",
            "[500]\ttraining's multi_error: 0.0478479\tvalid_1's multi_error: 0.0816736\n",
            "[600]\ttraining's multi_error: 0.0459033\tvalid_1's multi_error: 0.0789839\n",
            "[700]\ttraining's multi_error: 0.043579\tvalid_1's multi_error: 0.0756696\n",
            "[800]\ttraining's multi_error: 0.0416711\tvalid_1's multi_error: 0.0718294\n",
            "[900]\ttraining's multi_error: 0.0403869\tvalid_1's multi_error: 0.0700822\n",
            "[1000]\ttraining's multi_error: 0.039126\tvalid_1's multi_error: 0.0688701\n",
            "[1100]\ttraining's multi_error: 0.0381267\tvalid_1's multi_error: 0.0675593\n",
            "[1200]\ttraining's multi_error: 0.0371981\tvalid_1's multi_error: 0.066929\n",
            "[1300]\ttraining's multi_error: 0.0361015\tvalid_1's multi_error: 0.0659684\n",
            "[1400]\ttraining's multi_error: 0.0349584\tvalid_1's multi_error: 0.0624585\n",
            "[1500]\ttraining's multi_error: 0.0337745\tvalid_1's multi_error: 0.0614806\n",
            "[1600]\ttraining's multi_error: 0.0324662\tvalid_1's multi_error: 0.0613088\n",
            "[1700]\ttraining's multi_error: 0.0312187\tvalid_1's multi_error: 0.0613565\n",
            "Early stopping, best iteration is:\n",
            "[1545]\ttraining's multi_error: 0.0331839\tvalid_1's multi_error: 0.0606966\n"
          ],
          "name": "stdout"
        }
      ]
    },
    {
      "cell_type": "code",
      "metadata": {
        "id": "EH0RBac0Fl5k",
        "colab_type": "code",
        "colab": {
          "base_uri": "https://localhost:8080/",
          "height": 34
        },
        "outputId": "c86df4ef-f0e5-4c41-ab4b-d320e0e94d04"
      },
      "source": [
        "model_lgb.best_iteration"
      ],
      "execution_count": 96,
      "outputs": [
        {
          "output_type": "execute_result",
          "data": {
            "text/plain": [
              "1545"
            ]
          },
          "metadata": {
            "tags": []
          },
          "execution_count": 96
        }
      ]
    },
    {
      "cell_type": "code",
      "metadata": {
        "id": "WmbMoPhKFoCd",
        "colab_type": "code",
        "colab": {
          "base_uri": "https://localhost:8080/",
          "height": 34
        },
        "outputId": "d791a8e9-1f76-4ab0-827b-976db82a61e3"
      },
      "source": [
        "predicted_lgb = model_lgb.predict(X_test, num_iteration= model_lgb.best_iteration)\n",
        "print('Log loss',round(log_loss(y_test.to_numpy(),predicted_lgb),8))"
      ],
      "execution_count": 97,
      "outputs": [
        {
          "output_type": "stream",
          "text": [
            "Log loss 0.13611073\n"
          ],
          "name": "stdout"
        }
      ]
    },
    {
      "cell_type": "code",
      "metadata": {
        "id": "S8mOHf45Foo6",
        "colab_type": "code",
        "colab": {
          "base_uri": "https://localhost:8080/",
          "height": 34
        },
        "outputId": "b847b32f-6c81-49f7-892d-da021c2eed75"
      },
      "source": [
        "joblib.dump(model_lgb, 'lightgbm.pkl')"
      ],
      "execution_count": 98,
      "outputs": [
        {
          "output_type": "execute_result",
          "data": {
            "text/plain": [
              "['lightgbm.pkl']"
            ]
          },
          "metadata": {
            "tags": []
          },
          "execution_count": 98
        }
      ]
    },
    {
      "cell_type": "code",
      "metadata": {
        "id": "f_r6PItIFrDi",
        "colab_type": "code",
        "colab": {}
      },
      "source": [
        "predicted_lgb = model_lgb.predict(df_test, num_iteration= model_lgb.best_iteration)"
      ],
      "execution_count": 99,
      "outputs": []
    },
    {
      "cell_type": "code",
      "metadata": {
        "id": "rAKrAF-ZFwrn",
        "colab_type": "code",
        "colab": {}
      },
      "source": [
        "submission = pd.DataFrame(np.concatenate((np.arange(len(df_test))[:, np.newaxis], predicted_lgb), axis=1), columns=['id', 'A', 'B', 'C', 'D'])\n",
        "submission['id'] = df_test_id.astype(int)\n",
        "submission.to_csv(\"Submission.csv\", index=False)"
      ],
      "execution_count": 100,
      "outputs": []
    },
    {
      "cell_type": "code",
      "metadata": {
        "id": "FSjVwUGeFy4d",
        "colab_type": "code",
        "colab": {
          "base_uri": "https://localhost:8080/",
          "height": 68
        },
        "outputId": "a94abce6-dd4e-417e-a9d4-6ff894091cae"
      },
      "source": [
        "!kaggle competitions submit -c reducing-commercial-aviation-fatalities -f Submission.csv -m \"lgb without FE and some parameter tweaking\""
      ],
      "execution_count": 101,
      "outputs": [
        {
          "output_type": "stream",
          "text": [
            "Warning: Looks like you're using an outdated API Version, please consider updating (server 1.5.6 / client 1.5.4)\n",
            "100% 1.58G/1.58G [00:20<00:00, 83.7MB/s]\n",
            "Successfully submitted to Reducing Commercial Aviation Fatalities"
          ],
          "name": "stdout"
        }
      ]
    },
    {
      "cell_type": "markdown",
      "metadata": {
        "id": "0Vr6kMtJlzqj",
        "colab_type": "text"
      },
      "source": [
        "Scores: \n",
        "* Private = 1.25462\n",
        "* Public = 0.58422"
      ]
    },
    {
      "cell_type": "markdown",
      "metadata": {
        "id": "J48N99X6mAMU",
        "colab_type": "text"
      },
      "source": [
        "*Approach 2*"
      ]
    },
    {
      "cell_type": "code",
      "metadata": {
        "id": "14T21bU3nYwx",
        "colab_type": "code",
        "colab": {}
      },
      "source": [
        "df_train['experiment'] = df_train['experiment'].map({'CA': 2, 'DA': 3, 'SS': 1, 'LOFT': 0})\n",
        "df_train[\"experiment\"] = df_train[\"experiment\"].astype('int8')\n",
        "df_train['event'] = df_train['event'].map({'A': 0, 'B': 1, 'C': 2, 'D': 3})\n",
        "df_train[\"event\"] = df_train[\"event\"].astype('int8')\n",
        "y = df_train['event']\n",
        "\n",
        "df_test['experiment'] = df_test['experiment'].map({'CA': 2, 'DA': 3, 'SS': 1, 'LOFT': 0})\n",
        "df_test[\"experiment\"] = df_test[\"experiment\"].astype('int8')"
      ],
      "execution_count": 8,
      "outputs": []
    },
    {
      "cell_type": "code",
      "metadata": {
        "id": "dl8iY4GYneiz",
        "colab_type": "code",
        "colab": {}
      },
      "source": [
        "df_test_id = df_test['id']\n",
        "df_test = df_test.drop('id',axis=1)\n",
        "df_train = df_train.drop('event',axis=1)"
      ],
      "execution_count": 9,
      "outputs": []
    },
    {
      "cell_type": "code",
      "metadata": {
        "id": "vOoQS8Aqn2JD",
        "colab_type": "code",
        "colab": {}
      },
      "source": [
        "df_train['fp1_f7'] = df_train['eeg_fp1'] - df_train['eeg_f7']\n",
        "df_train['f7_t3'] = df_train['eeg_f7'] - df_train['eeg_t3']\n",
        "df_train['t3_t5'] = df_train['eeg_t3'] - df_train['eeg_t5']\n",
        "df_train['t5_o1'] = df_train['eeg_t5'] - df_train['eeg_o1']\n",
        "df_train['fp1_f3'] = df_train['eeg_fp1'] - df_train['eeg_f7']\n",
        "df_train['f3_c3'] = df_train['eeg_f3'] - df_train['eeg_c3']\n",
        "df_train['c3_p3'] = df_train['eeg_c3'] - df_train['eeg_p3']\n",
        "df_train['p3_o1'] = df_train['eeg_p3'] - df_train['eeg_o1']\n",
        "df_train['fz_cz'] = df_train['eeg_fz'] - df_train['eeg_cz']\n",
        "df_train['cz_pz'] = df_train['eeg_cz'] - df_train['eeg_pz']\n",
        "df_train['pz_poz'] = df_train['eeg_pz'] - df_train['eeg_poz']\n",
        "df_train['fp2_f8'] = df_train['eeg_fp2'] - df_train['eeg_f8']\n",
        "df_train['f8_t4'] = df_train['eeg_f8'] - df_train['eeg_t4']\n",
        "df_train['t4_t6'] = df_train['eeg_t4'] - df_train['eeg_t6']\n",
        "df_train['t6_o2'] = df_train['eeg_t6'] - df_train['eeg_o2']\n",
        "df_train['fp2_f4'] = df_train['eeg_fp2'] - df_train['eeg_f4']\n",
        "df_train['f4_c4'] = df_train['eeg_f4'] - df_train['eeg_c4']\n",
        "df_train['c4_p4'] = df_train['eeg_c4'] - df_train['eeg_p4']\n",
        "df_train['p4_o2'] = df_train['eeg_p4'] - df_train['eeg_o2']"
      ],
      "execution_count": 10,
      "outputs": []
    },
    {
      "cell_type": "code",
      "metadata": {
        "id": "pt4BAtean5zY",
        "colab_type": "code",
        "colab": {}
      },
      "source": [
        "df_test['fp1_f7'] = df_test['eeg_fp1'] - df_test['eeg_f7']\n",
        "df_test['f7_t3'] = df_test['eeg_f7'] - df_test['eeg_t3']\n",
        "df_test['t3_t5'] = df_test['eeg_t3'] - df_test['eeg_t5']\n",
        "df_test['t5_o1'] = df_test['eeg_t5'] - df_test['eeg_o1']\n",
        "df_test['fp1_f3'] = df_test['eeg_fp1'] - df_test['eeg_f7']\n",
        "df_test['f3_c3'] = df_test['eeg_f3'] - df_test['eeg_c3']\n",
        "df_test['c3_p3'] = df_test['eeg_c3'] - df_test['eeg_p3']\n",
        "df_test['p3_o1'] = df_test['eeg_p3'] - df_test['eeg_o1']\n",
        "df_test['fz_cz'] = df_test['eeg_fz'] - df_test['eeg_cz']\n",
        "df_test['cz_pz'] = df_test['eeg_cz'] - df_test['eeg_pz']\n",
        "df_test['pz_poz'] = df_test['eeg_pz'] - df_test['eeg_poz']\n",
        "df_test['fp2_f8'] = df_test['eeg_fp2'] - df_test['eeg_f8']\n",
        "df_test['f8_t4'] = df_test['eeg_f8'] - df_test['eeg_t4']\n",
        "df_test['t4_t6'] = df_test['eeg_t4'] - df_test['eeg_t6']\n",
        "df_test['t6_o2'] = df_test['eeg_t6'] - df_test['eeg_o2']\n",
        "df_test['fp2_f4'] = df_test['eeg_fp2'] - df_test['eeg_f4']\n",
        "df_test['f4_c4'] = df_test['eeg_f4'] - df_test['eeg_c4']\n",
        "df_test['c4_p4'] = df_test['eeg_c4'] - df_test['eeg_p4']\n",
        "df_test['p4_o2'] = df_test['eeg_p4'] - df_test['eeg_o2']"
      ],
      "execution_count": 11,
      "outputs": []
    },
    {
      "cell_type": "code",
      "metadata": {
        "id": "ZmsRyaSMoHU1",
        "colab_type": "code",
        "colab": {}
      },
      "source": [
        "X_train, X_test, y_train, y_test = train_test_split(df_train, y,test_size=0.25, shuffle=False)"
      ],
      "execution_count": 10,
      "outputs": []
    },
    {
      "cell_type": "code",
      "metadata": {
        "id": "ivA3ltCDoK0q",
        "colab_type": "code",
        "colab": {}
      },
      "source": [
        "lgbtrain = lgb.Dataset(X_train, y_train,categorical_feature=[1])\n",
        "lgbtest = lgb.Dataset(X_test, y_test,categorical_feature=[1])"
      ],
      "execution_count": 41,
      "outputs": []
    },
    {
      "cell_type": "code",
      "metadata": {
        "id": "IFQ1O166oNZz",
        "colab_type": "code",
        "colab": {
          "base_uri": "https://localhost:8080/",
          "height": 357
        },
        "outputId": "27ef1f89-cb44-42d0-dae2-92e7a9ca46df"
      },
      "source": [
        "params = {'bagging_fraction': 0.9,\n",
        " 'bagging_seed': 0,\n",
        " 'boosting_type': 'gbdt',\n",
        " 'learning_rate': 0.01,\n",
        " 'metric': 'multi_error',\n",
        " 'num_class': 4,\n",
        " 'num_leaves': 10,\n",
        " 'num_threads' : 4,\n",
        " 'colsample_bytree' : 0.5,\n",
        " 'objective': 'multiclass',\n",
        " 'min_data_in_leaf':100,\n",
        " 'min_split_gain':0.0002\n",
        "}\n",
        "\n",
        "model_lgb = lgb.train(params, lgbtrain, 2000, valid_sets=[lgbtrain,lgbtest], early_stopping_rounds=200, verbose_eval=100)"
      ],
      "execution_count": 12,
      "outputs": [
        {
          "output_type": "stream",
          "text": [
            "Training until validation scores don't improve for 200 rounds.\n",
            "[100]\ttraining's multi_error: 0.0738036\tvalid_1's multi_error: 0.0838012\n",
            "[200]\ttraining's multi_error: 0.0640621\tvalid_1's multi_error: 0.0836155\n",
            "[300]\ttraining's multi_error: 0.0520991\tvalid_1's multi_error: 0.0828792\n",
            "[400]\ttraining's multi_error: 0.0495247\tvalid_1's multi_error: 0.0821272\n",
            "[500]\ttraining's multi_error: 0.0472713\tvalid_1's multi_error: 0.0817558\n",
            "[600]\ttraining's multi_error: 0.0453313\tvalid_1's multi_error: 0.0780824\n",
            "[700]\ttraining's multi_error: 0.0432382\tvalid_1's multi_error: 0.070812\n",
            "[800]\ttraining's multi_error: 0.0411832\tvalid_1's multi_error: 0.0626122\n",
            "[900]\ttraining's multi_error: 0.0398845\tvalid_1's multi_error: 0.0602955\n",
            "[1000]\ttraining's multi_error: 0.0388145\tvalid_1's multi_error: 0.0586602\n",
            "[1100]\ttraining's multi_error: 0.0377662\tvalid_1's multi_error: 0.057974\n",
            "[1200]\ttraining's multi_error: 0.0367776\tvalid_1's multi_error: 0.0575639\n",
            "[1300]\ttraining's multi_error: 0.0355893\tvalid_1's multi_error: 0.0571834\n",
            "[1400]\ttraining's multi_error: 0.034307\tvalid_1's multi_error: 0.0566558\n",
            "[1500]\ttraining's multi_error: 0.0332414\tvalid_1's multi_error: 0.0561011\n",
            "[1600]\ttraining's multi_error: 0.0321539\tvalid_1's multi_error: 0.0561266\n",
            "[1700]\ttraining's multi_error: 0.0310171\tvalid_1's multi_error: 0.0562392\n",
            "Early stopping, best iteration is:\n",
            "[1574]\ttraining's multi_error: 0.0324843\tvalid_1's multi_error: 0.0557897\n"
          ],
          "name": "stdout"
        }
      ]
    },
    {
      "cell_type": "code",
      "metadata": {
        "id": "0tm7wXLcoT70",
        "colab_type": "code",
        "colab": {
          "base_uri": "https://localhost:8080/",
          "height": 34
        },
        "outputId": "c0e98694-430f-48f7-e802-43b57a7ee5d8"
      },
      "source": [
        "model_lgb.best_iteration"
      ],
      "execution_count": 13,
      "outputs": [
        {
          "output_type": "execute_result",
          "data": {
            "text/plain": [
              "1574"
            ]
          },
          "metadata": {
            "tags": []
          },
          "execution_count": 13
        }
      ]
    },
    {
      "cell_type": "code",
      "metadata": {
        "id": "rJa8bjmqoW17",
        "colab_type": "code",
        "colab": {
          "base_uri": "https://localhost:8080/",
          "height": 34
        },
        "outputId": "7ceac356-7824-4af7-e501-78448da533d8"
      },
      "source": [
        "predicted_lgb = model_lgb.predict(X_test, num_iteration= model_lgb.best_iteration)\n",
        "print('Log loss',round(log_loss(y_test.to_numpy(),predicted_lgb),8))"
      ],
      "execution_count": 14,
      "outputs": [
        {
          "output_type": "stream",
          "text": [
            "Log loss 0.12914405\n"
          ],
          "name": "stdout"
        }
      ]
    },
    {
      "cell_type": "code",
      "metadata": {
        "id": "qD91rQg0oZ8v",
        "colab_type": "code",
        "colab": {}
      },
      "source": [
        "predicted_lgb = model_lgb.predict(df_test, num_iteration= model_lgb.best_iteration)\n",
        "submission = pd.DataFrame(np.concatenate((np.arange(len(df_test))[:, np.newaxis], predicted_lgb), axis=1), columns=['id', 'A', 'B', 'C', 'D'])\n",
        "submission['id'] = df_test_id.astype(int)\n",
        "submission.to_csv(\"Submission.csv\", index=False)"
      ],
      "execution_count": 15,
      "outputs": []
    },
    {
      "cell_type": "code",
      "metadata": {
        "id": "bWRAvlJfoewR",
        "colab_type": "code",
        "colab": {
          "base_uri": "https://localhost:8080/",
          "height": 68
        },
        "outputId": "099e7c27-49ec-4e19-bc92-bcc49643992a"
      },
      "source": [
        "!kaggle competitions submit -c reducing-commercial-aviation-fatalities -f Submission.csv -m \"Approach 2\""
      ],
      "execution_count": 19,
      "outputs": [
        {
          "output_type": "stream",
          "text": [
            "Warning: Looks like you're using an outdated API Version, please consider updating (server 1.5.6 / client 1.5.4)\n",
            "100% 1.57G/1.57G [00:28<00:00, 60.1MB/s]\n",
            "Successfully submitted to Reducing Commercial Aviation Fatalities"
          ],
          "name": "stdout"
        }
      ]
    },
    {
      "cell_type": "markdown",
      "metadata": {
        "id": "UekNbe_n-PSw",
        "colab_type": "text"
      },
      "source": [
        "Score:\n",
        "* Private = 1.25894\n",
        "* Public = 0.58775"
      ]
    },
    {
      "cell_type": "markdown",
      "metadata": {
        "id": "XOCHu2lu-Xdn",
        "colab_type": "text"
      },
      "source": [
        "*Approach 3*"
      ]
    },
    {
      "cell_type": "code",
      "metadata": {
        "id": "veZ3B1dm-x1J",
        "colab_type": "code",
        "colab": {}
      },
      "source": [
        "df_train['experiment'] = df_train['experiment'].map({'CA': 0, 'DA': 1, 'SS': 3, 'LOFT': 4})\n",
        "df_train[\"experiment\"] = df_train[\"experiment\"].astype('int8')\n",
        "df_train['event'] = df_train['event'].map({'A': 0, 'B': 1, 'C': 2, 'D': 3})\n",
        "df_train[\"event\"] = df_train[\"event\"].astype('int8')\n",
        "y = df_train['event']\n",
        "\n",
        "df_test['experiment'] = df_test['experiment'].map({'CA': 0, 'DA': 1, 'SS': 3, 'LOFT': 4})\n",
        "df_test[\"experiment\"] = df_test[\"experiment\"].astype('int8')"
      ],
      "execution_count": 164,
      "outputs": []
    },
    {
      "cell_type": "code",
      "metadata": {
        "id": "tqfFOl29_nQD",
        "colab_type": "code",
        "colab": {
          "base_uri": "https://localhost:8080/",
          "height": 102
        },
        "outputId": "9c09f958-58fe-4e19-91c9-d2796652c8db"
      },
      "source": [
        "df_train.columns"
      ],
      "execution_count": 46,
      "outputs": [
        {
          "output_type": "execute_result",
          "data": {
            "text/plain": [
              "Index(['crew', 'experiment', 'time', 'seat', 'eeg_fp1', 'eeg_f7', 'eeg_f8',\n",
              "       'eeg_t4', 'eeg_t6', 'eeg_t5', 'eeg_t3', 'eeg_fp2', 'eeg_o1', 'eeg_p3',\n",
              "       'eeg_pz', 'eeg_f3', 'eeg_fz', 'eeg_f4', 'eeg_c4', 'eeg_p4', 'eeg_poz',\n",
              "       'eeg_c3', 'eeg_cz', 'eeg_o2', 'ecg', 'r', 'gsr', 'event'],\n",
              "      dtype='object')"
            ]
          },
          "metadata": {
            "tags": []
          },
          "execution_count": 46
        }
      ]
    },
    {
      "cell_type": "code",
      "metadata": {
        "id": "Pz6Rconh_rpv",
        "colab_type": "code",
        "colab": {}
      },
      "source": [
        "feat = ['eeg_fp1', 'eeg_f7', 'eeg_f8',\n",
        "       'eeg_t4', 'eeg_t6', 'eeg_t5', 'eeg_t3', 'eeg_fp2', 'eeg_o1', 'eeg_p3',\n",
        "       'eeg_pz', 'eeg_f3', 'eeg_fz', 'eeg_f4', 'eeg_c4', 'eeg_p4', 'eeg_poz',\n",
        "       'eeg_c3', 'eeg_cz', 'eeg_o2', 'ecg', 'r', 'gsr']"
      ],
      "execution_count": 165,
      "outputs": []
    },
    {
      "cell_type": "code",
      "metadata": {
        "id": "Qe6jTPIL-o0c",
        "colab_type": "code",
        "colab": {
          "base_uri": "https://localhost:8080/",
          "height": 224
        },
        "outputId": "a7094733-66ad-4392-99a0-7c3891ad18d5"
      },
      "source": [
        "sc = MinMaxScaler()\n",
        "for i in feat:\n",
        "  df_train[i] = sc.fit_transform(np.array(df_train[i]).reshape(-1,1))\n",
        "df_train.head()"
      ],
      "execution_count": 166,
      "outputs": [
        {
          "output_type": "execute_result",
          "data": {
            "text/html": [
              "<div>\n",
              "<style scoped>\n",
              "    .dataframe tbody tr th:only-of-type {\n",
              "        vertical-align: middle;\n",
              "    }\n",
              "\n",
              "    .dataframe tbody tr th {\n",
              "        vertical-align: top;\n",
              "    }\n",
              "\n",
              "    .dataframe thead th {\n",
              "        text-align: right;\n",
              "    }\n",
              "</style>\n",
              "<table border=\"1\" class=\"dataframe\">\n",
              "  <thead>\n",
              "    <tr style=\"text-align: right;\">\n",
              "      <th></th>\n",
              "      <th>crew</th>\n",
              "      <th>experiment</th>\n",
              "      <th>time</th>\n",
              "      <th>seat</th>\n",
              "      <th>eeg_fp1</th>\n",
              "      <th>eeg_f7</th>\n",
              "      <th>eeg_f8</th>\n",
              "      <th>eeg_t4</th>\n",
              "      <th>eeg_t6</th>\n",
              "      <th>eeg_t5</th>\n",
              "      <th>eeg_t3</th>\n",
              "      <th>eeg_fp2</th>\n",
              "      <th>eeg_o1</th>\n",
              "      <th>eeg_p3</th>\n",
              "      <th>eeg_pz</th>\n",
              "      <th>eeg_f3</th>\n",
              "      <th>eeg_fz</th>\n",
              "      <th>eeg_f4</th>\n",
              "      <th>eeg_c4</th>\n",
              "      <th>eeg_p4</th>\n",
              "      <th>eeg_poz</th>\n",
              "      <th>eeg_c3</th>\n",
              "      <th>eeg_cz</th>\n",
              "      <th>eeg_o2</th>\n",
              "      <th>ecg</th>\n",
              "      <th>r</th>\n",
              "      <th>gsr</th>\n",
              "      <th>event</th>\n",
              "    </tr>\n",
              "  </thead>\n",
              "  <tbody>\n",
              "    <tr>\n",
              "      <th>0</th>\n",
              "      <td>1</td>\n",
              "      <td>0</td>\n",
              "      <td>0.011719</td>\n",
              "      <td>1</td>\n",
              "      <td>0.406790</td>\n",
              "      <td>0.442990</td>\n",
              "      <td>0.431285</td>\n",
              "      <td>0.462933</td>\n",
              "      <td>0.583200</td>\n",
              "      <td>0.532208</td>\n",
              "      <td>0.466463</td>\n",
              "      <td>0.396589</td>\n",
              "      <td>0.611914</td>\n",
              "      <td>0.579883</td>\n",
              "      <td>0.571609</td>\n",
              "      <td>0.501633</td>\n",
              "      <td>0.510864</td>\n",
              "      <td>0.535009</td>\n",
              "      <td>0.593889</td>\n",
              "      <td>0.583052</td>\n",
              "      <td>0.468430</td>\n",
              "      <td>0.579501</td>\n",
              "      <td>0.528516</td>\n",
              "      <td>0.328979</td>\n",
              "      <td>0.266527</td>\n",
              "      <td>0.937234</td>\n",
              "      <td>0.194429</td>\n",
              "      <td>0</td>\n",
              "    </tr>\n",
              "    <tr>\n",
              "      <th>1</th>\n",
              "      <td>1</td>\n",
              "      <td>0</td>\n",
              "      <td>0.015625</td>\n",
              "      <td>1</td>\n",
              "      <td>0.407647</td>\n",
              "      <td>0.443446</td>\n",
              "      <td>0.431339</td>\n",
              "      <td>0.465714</td>\n",
              "      <td>0.582847</td>\n",
              "      <td>0.530859</td>\n",
              "      <td>0.465496</td>\n",
              "      <td>0.396652</td>\n",
              "      <td>0.611371</td>\n",
              "      <td>0.579556</td>\n",
              "      <td>0.571916</td>\n",
              "      <td>0.502388</td>\n",
              "      <td>0.511084</td>\n",
              "      <td>0.535928</td>\n",
              "      <td>0.590943</td>\n",
              "      <td>0.583970</td>\n",
              "      <td>0.468612</td>\n",
              "      <td>0.579852</td>\n",
              "      <td>0.532549</td>\n",
              "      <td>0.329875</td>\n",
              "      <td>0.266527</td>\n",
              "      <td>0.937234</td>\n",
              "      <td>0.194429</td>\n",
              "      <td>0</td>\n",
              "    </tr>\n",
              "    <tr>\n",
              "      <th>2</th>\n",
              "      <td>1</td>\n",
              "      <td>0</td>\n",
              "      <td>0.019531</td>\n",
              "      <td>1</td>\n",
              "      <td>0.411577</td>\n",
              "      <td>0.443994</td>\n",
              "      <td>0.437849</td>\n",
              "      <td>0.474482</td>\n",
              "      <td>0.582929</td>\n",
              "      <td>0.531555</td>\n",
              "      <td>0.467078</td>\n",
              "      <td>0.398478</td>\n",
              "      <td>0.611681</td>\n",
              "      <td>0.580832</td>\n",
              "      <td>0.572533</td>\n",
              "      <td>0.503358</td>\n",
              "      <td>0.511296</td>\n",
              "      <td>0.537211</td>\n",
              "      <td>0.570416</td>\n",
              "      <td>0.583969</td>\n",
              "      <td>0.469919</td>\n",
              "      <td>0.580340</td>\n",
              "      <td>0.532706</td>\n",
              "      <td>0.331117</td>\n",
              "      <td>0.266527</td>\n",
              "      <td>0.937234</td>\n",
              "      <td>0.194429</td>\n",
              "      <td>0</td>\n",
              "    </tr>\n",
              "    <tr>\n",
              "      <th>3</th>\n",
              "      <td>1</td>\n",
              "      <td>0</td>\n",
              "      <td>0.023438</td>\n",
              "      <td>1</td>\n",
              "      <td>0.411811</td>\n",
              "      <td>0.442668</td>\n",
              "      <td>0.434441</td>\n",
              "      <td>0.470692</td>\n",
              "      <td>0.584998</td>\n",
              "      <td>0.531289</td>\n",
              "      <td>0.464828</td>\n",
              "      <td>0.398430</td>\n",
              "      <td>0.612212</td>\n",
              "      <td>0.579607</td>\n",
              "      <td>0.572546</td>\n",
              "      <td>0.502187</td>\n",
              "      <td>0.511643</td>\n",
              "      <td>0.536925</td>\n",
              "      <td>0.584955</td>\n",
              "      <td>0.585729</td>\n",
              "      <td>0.469720</td>\n",
              "      <td>0.578917</td>\n",
              "      <td>0.533475</td>\n",
              "      <td>0.330220</td>\n",
              "      <td>0.266527</td>\n",
              "      <td>0.937234</td>\n",
              "      <td>0.194429</td>\n",
              "      <td>0</td>\n",
              "    </tr>\n",
              "    <tr>\n",
              "      <th>4</th>\n",
              "      <td>1</td>\n",
              "      <td>0</td>\n",
              "      <td>0.027344</td>\n",
              "      <td>1</td>\n",
              "      <td>0.410560</td>\n",
              "      <td>0.442760</td>\n",
              "      <td>0.433829</td>\n",
              "      <td>0.468640</td>\n",
              "      <td>0.584669</td>\n",
              "      <td>0.530168</td>\n",
              "      <td>0.465339</td>\n",
              "      <td>0.397945</td>\n",
              "      <td>0.612437</td>\n",
              "      <td>0.580028</td>\n",
              "      <td>0.573311</td>\n",
              "      <td>0.501743</td>\n",
              "      <td>0.511647</td>\n",
              "      <td>0.536135</td>\n",
              "      <td>0.579242</td>\n",
              "      <td>0.585541</td>\n",
              "      <td>0.469731</td>\n",
              "      <td>0.579360</td>\n",
              "      <td>0.532829</td>\n",
              "      <td>0.331273</td>\n",
              "      <td>0.266527</td>\n",
              "      <td>0.937234</td>\n",
              "      <td>0.194429</td>\n",
              "      <td>0</td>\n",
              "    </tr>\n",
              "  </tbody>\n",
              "</table>\n",
              "</div>"
            ],
            "text/plain": [
              "   crew  experiment      time  seat  ...       ecg         r       gsr  event\n",
              "0     1           0  0.011719     1  ...  0.266527  0.937234  0.194429      0\n",
              "1     1           0  0.015625     1  ...  0.266527  0.937234  0.194429      0\n",
              "2     1           0  0.019531     1  ...  0.266527  0.937234  0.194429      0\n",
              "3     1           0  0.023438     1  ...  0.266527  0.937234  0.194429      0\n",
              "4     1           0  0.027344     1  ...  0.266527  0.937234  0.194429      0\n",
              "\n",
              "[5 rows x 28 columns]"
            ]
          },
          "metadata": {
            "tags": []
          },
          "execution_count": 166
        }
      ]
    },
    {
      "cell_type": "code",
      "metadata": {
        "id": "KjF0Wj7S_-xV",
        "colab_type": "code",
        "colab": {}
      },
      "source": [
        "sc = MinMaxScaler()\n",
        "for i in feat:\n",
        "  df_test[i] = sc.fit_transform(np.array(df_test[i]).reshape(-1,1))"
      ],
      "execution_count": 167,
      "outputs": []
    },
    {
      "cell_type": "code",
      "metadata": {
        "id": "h_y0dbxVANOM",
        "colab_type": "code",
        "colab": {}
      },
      "source": [
        "X_train, X_test, y_train, y_test = train_test_split(df_train, y,test_size=0.25, shuffle=False)"
      ],
      "execution_count": 168,
      "outputs": []
    },
    {
      "cell_type": "code",
      "metadata": {
        "id": "OKTjeJLnAPUL",
        "colab_type": "code",
        "colab": {}
      },
      "source": [
        "lgbtrain = lgb.Dataset(X_train, y_train,categorical_feature=[1])\n",
        "lgbtest = lgb.Dataset(X_test, y_test,categorical_feature=[1])"
      ],
      "execution_count": 182,
      "outputs": []
    },
    {
      "cell_type": "code",
      "metadata": {
        "id": "7VTeMovEWAyL",
        "colab_type": "code",
        "colab": {
          "base_uri": "https://localhost:8080/",
          "height": 102
        },
        "outputId": "b1f11d47-6021-4055-8e49-31da5c0be7d0"
      },
      "source": [
        "params = {\n",
        "        'objective' : 'multiclass',\n",
        "        'metric' : 'multi_error',  \n",
        "        'boosting' :'gbdt',        \n",
        "        'num_class':4,             \n",
        "        'num_leaves' : 30,         \n",
        "        'learning_rate' : 0.04,     \n",
        "        'bagging_fraction' : 0.9,  \n",
        "        'bagging_seed' : 0,        \n",
        "        'num_threads' : 4,\n",
        "        'colsample_bytree' : 0.5, \n",
        "        'min_data_in_leaf':100,   \n",
        "        'min_split_gain':0.00015\n",
        "          }\n",
        "\n",
        "model_lgb1 = lgb.train(params, lgbtrain, 2000, valid_sets=[lgbtrain,lgbtest], early_stopping_rounds=200, verbose_eval=100)"
      ],
      "execution_count": 116,
      "outputs": [
        {
          "output_type": "stream",
          "text": [
            "Training until validation scores don't improve for 200 rounds.\n",
            "[100]\ttraining's multi_error: 0\tvalid_1's multi_error: 5.01292e-05\n",
            "[200]\ttraining's multi_error: 0\tvalid_1's multi_error: 0\n",
            "Early stopping, best iteration is:\n",
            "[78]\ttraining's multi_error: 0\tvalid_1's multi_error: 0.000110942\n"
          ],
          "name": "stdout"
        }
      ]
    },
    {
      "cell_type": "code",
      "metadata": {
        "id": "H7DFFz8TWEKl",
        "colab_type": "code",
        "colab": {
          "base_uri": "https://localhost:8080/",
          "height": 34
        },
        "outputId": "a1bde941-426e-43f9-b303-5f90bb03ca4d"
      },
      "source": [
        "predicted_lgb = model_lgb1.predict(X_test, num_iteration= model_lgb1.best_iteration)\n",
        "print('Log loss',round(log_loss(y_test.to_numpy(),predicted_lgb),8))"
      ],
      "execution_count": 119,
      "outputs": [
        {
          "output_type": "stream",
          "text": [
            "Log loss 0.0833791\n"
          ],
          "name": "stdout"
        }
      ]
    },
    {
      "cell_type": "code",
      "metadata": {
        "id": "Ul0rhpKqEWj8",
        "colab_type": "code",
        "colab": {
          "base_uri": "https://localhost:8080/",
          "height": 102
        },
        "outputId": "61aaba01-5b5c-4d63-ee1c-a987fda055dd"
      },
      "source": [
        "params = {\n",
        "        'objective' : 'multiclass',\n",
        "        'metric' : 'multi_error',  \n",
        "        'boosting' :'gbdt',        \n",
        "        'num_class':4,             \n",
        "        'num_leaves' : 30,         \n",
        "        'learning_rate' : 0.05,     \n",
        "        'bagging_fraction' : 0.9,  \n",
        "        'bagging_seed' : 0,        \n",
        "        'num_threads' : 4,\n",
        "        'colsample_bytree' : 0.5, \n",
        "        'min_data_in_leaf':100,   \n",
        "        'min_split_gain':0.00015\n",
        "          }\n",
        "\n",
        "model_lgb = lgb.train(params, lgbtrain, 2000, valid_sets=[lgbtrain,lgbtest], early_stopping_rounds=200, verbose_eval=100)\n",
        "\n",
        "#0.59629\n",
        "#0.38000"
      ],
      "execution_count": 173,
      "outputs": [
        {
          "output_type": "stream",
          "text": [
            "Training until validation scores don't improve for 200 rounds.\n",
            "[100]\ttraining's multi_error: 0\tvalid_1's multi_error: 1.9723e-05\n",
            "[200]\ttraining's multi_error: 0\tvalid_1's multi_error: 0\n",
            "Early stopping, best iteration is:\n",
            "[69]\ttraining's multi_error: 0\tvalid_1's multi_error: 8.46444e-05\n"
          ],
          "name": "stdout"
        }
      ]
    },
    {
      "cell_type": "code",
      "metadata": {
        "id": "SXF1oCg8EnN1",
        "colab_type": "code",
        "colab": {
          "base_uri": "https://localhost:8080/",
          "height": 34
        },
        "outputId": "ec6667e8-c43a-4a1d-afaa-a5e748ceeb5c"
      },
      "source": [
        "predicted_lgb = model_lgb.predict(X_test, num_iteration= model_lgb.best_iteration)\n",
        "print('Log loss',round(log_loss(y_test.to_numpy(),predicted_lgb),8))"
      ],
      "execution_count": 174,
      "outputs": [
        {
          "output_type": "stream",
          "text": [
            "Log loss 0.06922234\n"
          ],
          "name": "stdout"
        }
      ]
    },
    {
      "cell_type": "code",
      "metadata": {
        "id": "UMSFyzNFAXdq",
        "colab_type": "code",
        "colab": {}
      },
      "source": [
        "predicted_lgb = model_lgb.predict(df_test, num_iteration= model_lgb.best_iteration)\n",
        "submission = pd.DataFrame(np.concatenate((np.arange(len(df_test))[:, np.newaxis], predicted_lgb), axis=1), columns=['id', 'A', 'B', 'C', 'D'])\n",
        "submission['id'] = df_test_id.astype(int)\n",
        "submission.to_csv(\"Submission.csv\", index=False)"
      ],
      "execution_count": 175,
      "outputs": []
    },
    {
      "cell_type": "code",
      "metadata": {
        "id": "7l-CPu0k_IVc",
        "colab_type": "code",
        "colab": {
          "base_uri": "https://localhost:8080/",
          "height": 102
        },
        "outputId": "7dcfdaf3-63eb-49f5-c60a-29d75f126390"
      },
      "source": [
        "params = {\n",
        "        'objective' : 'multiclass',\n",
        "        'metric' : 'multi_error',  \n",
        "        'boosting' :'gbdt',        \n",
        "        'num_class':4,             \n",
        "        'num_leaves' : 30,         \n",
        "        'learning_rate' : 0.06,     \n",
        "        'bagging_fraction' : 0.9,  \n",
        "        'bagging_seed' : 0,        \n",
        "        'num_threads' : 4,\n",
        "        'colsample_bytree' : 0.4, \n",
        "        'min_data_in_leaf':100,   \n",
        "        'min_split_gain':0.00015\n",
        "          }\n",
        "\n",
        "#0.61659\n",
        "#0.33278\n",
        "\n",
        "model_lgb2 = lgb.train(params, lgbtrain, 2000, valid_sets=[lgbtrain,lgbtest], early_stopping_rounds=200, verbose_eval=100)\n"
      ],
      "execution_count": 183,
      "outputs": [
        {
          "output_type": "stream",
          "text": [
            "Training until validation scores don't improve for 200 rounds.\n",
            "[100]\ttraining's multi_error: 0\tvalid_1's multi_error: 0.0002112\n",
            "[200]\ttraining's multi_error: 0\tvalid_1's multi_error: 4.93074e-06\n",
            "Early stopping, best iteration is:\n",
            "[73]\ttraining's multi_error: 0\tvalid_1's multi_error: 0.00107737\n"
          ],
          "name": "stdout"
        }
      ]
    },
    {
      "cell_type": "code",
      "metadata": {
        "id": "N6aLe0Yd_kCP",
        "colab_type": "code",
        "colab": {
          "base_uri": "https://localhost:8080/",
          "height": 34
        },
        "outputId": "bb884b86-96b7-4c93-aa4d-2ed1e2c465b9"
      },
      "source": [
        "predicted_lgb = model_lgb2.predict(X_test, num_iteration= model_lgb2.best_iteration)\n",
        "print('Log loss',round(log_loss(y_test.to_numpy(),predicted_lgb),8))"
      ],
      "execution_count": 184,
      "outputs": [
        {
          "output_type": "stream",
          "text": [
            "Log loss 0.06403297\n"
          ],
          "name": "stdout"
        }
      ]
    },
    {
      "cell_type": "code",
      "metadata": {
        "id": "LuNyo3G5_mux",
        "colab_type": "code",
        "colab": {}
      },
      "source": [
        "predicted_lgb = model_lgb2.predict(df_test, num_iteration= model_lgb2.best_iteration)\n",
        "submission = pd.DataFrame(np.concatenate((np.arange(len(df_test))[:, np.newaxis], predicted_lgb), axis=1), columns=['id', 'A', 'B', 'C', 'D'])\n",
        "submission['id'] = df_test_id.astype(int)\n",
        "submission.to_csv(\"Submission.csv\", index=False)"
      ],
      "execution_count": 185,
      "outputs": []
    },
    {
      "cell_type": "code",
      "metadata": {
        "id": "Y97yiP2GAZqp",
        "colab_type": "code",
        "colab": {
          "base_uri": "https://localhost:8080/",
          "height": 68
        },
        "outputId": "e981a31e-b46a-486e-ee82-e9bd2c143775"
      },
      "source": [
        "!kaggle competitions submit -c reducing-commercial-aviation-fatalities -f Submission.csv -m \"Approach 3 parameter tuning test\""
      ],
      "execution_count": 186,
      "outputs": [
        {
          "output_type": "stream",
          "text": [
            "Warning: Looks like you're using an outdated API Version, please consider updating (server 1.5.6 / client 1.5.4)\n",
            "100% 1.49G/1.49G [00:14<00:00, 107MB/s]\n",
            "Successfully submitted to Reducing Commercial Aviation Fatalities"
          ],
          "name": "stdout"
        }
      ]
    },
    {
      "cell_type": "markdown",
      "metadata": {
        "id": "daya7ukf1bog",
        "colab_type": "text"
      },
      "source": [
        "Scores:\n",
        "\n",
        "* Private = 0.60805\n",
        "* Public = 0.34161"
      ]
    },
    {
      "cell_type": "markdown",
      "metadata": {
        "id": "xMr0tCnq1Y0t",
        "colab_type": "text"
      },
      "source": [
        "*Approach 4*"
      ]
    },
    {
      "cell_type": "code",
      "metadata": {
        "id": "SPkiubLM1sCe",
        "colab_type": "code",
        "colab": {}
      },
      "source": [
        "df_train['experiment'] = df_train['experiment'].map({'CA': 2, 'DA': 3, 'SS': 1, 'LOFT': 0})\n",
        "df_train[\"experiment\"] = df_train[\"experiment\"].astype('int8')\n",
        "df_train['event'] = df_train['event'].map({'A': 0, 'B': 1, 'C': 2, 'D': 3})\n",
        "df_train[\"event\"] = df_train[\"event\"].astype('int8')\n",
        "y = df_train['event']\n",
        "\n",
        "df_test['experiment'] = df_test['experiment'].map({'CA': 2, 'DA': 3, 'SS': 1, 'LOFT': 0})\n",
        "df_test[\"experiment\"] = df_test[\"experiment\"].astype('int8')"
      ],
      "execution_count": 155,
      "outputs": []
    },
    {
      "cell_type": "code",
      "metadata": {
        "id": "hVj7wNDW2wS0",
        "colab_type": "code",
        "colab": {}
      },
      "source": [
        "df_test_id = df_test['id']\n",
        "df_test = df_test.drop('id',axis=1)\n",
        "df_train = df_train.drop('event',axis=1)"
      ],
      "execution_count": 156,
      "outputs": []
    },
    {
      "cell_type": "code",
      "metadata": {
        "id": "3sIbrSCk1saS",
        "colab_type": "code",
        "colab": {}
      },
      "source": [
        "feat = ['eeg_fp1', 'eeg_f7', 'eeg_f8',\n",
        "       'eeg_t4', 'eeg_t6', 'eeg_t5', 'eeg_t3', 'eeg_fp2', 'eeg_o1', 'eeg_p3',\n",
        "       'eeg_pz', 'eeg_f3', 'eeg_fz', 'eeg_f4', 'eeg_c4', 'eeg_p4', 'eeg_poz',\n",
        "       'eeg_c3', 'eeg_cz', 'eeg_o2', 'ecg', 'r', 'gsr']"
      ],
      "execution_count": 157,
      "outputs": []
    },
    {
      "cell_type": "code",
      "metadata": {
        "id": "uwvUr80c1stP",
        "colab_type": "code",
        "colab": {
          "base_uri": "https://localhost:8080/",
          "height": 224
        },
        "outputId": "815a7e60-ae87-4d69-ed3c-e3087e83b2cc"
      },
      "source": [
        "sc = MinMaxScaler()\n",
        "for i in feat:\n",
        "  df_train[i] = sc.fit_transform(np.array(df_train[i]).reshape(-1,1))\n",
        "df_train.head()"
      ],
      "execution_count": 158,
      "outputs": [
        {
          "output_type": "execute_result",
          "data": {
            "text/html": [
              "<div>\n",
              "<style scoped>\n",
              "    .dataframe tbody tr th:only-of-type {\n",
              "        vertical-align: middle;\n",
              "    }\n",
              "\n",
              "    .dataframe tbody tr th {\n",
              "        vertical-align: top;\n",
              "    }\n",
              "\n",
              "    .dataframe thead th {\n",
              "        text-align: right;\n",
              "    }\n",
              "</style>\n",
              "<table border=\"1\" class=\"dataframe\">\n",
              "  <thead>\n",
              "    <tr style=\"text-align: right;\">\n",
              "      <th></th>\n",
              "      <th>crew</th>\n",
              "      <th>experiment</th>\n",
              "      <th>time</th>\n",
              "      <th>seat</th>\n",
              "      <th>eeg_fp1</th>\n",
              "      <th>eeg_f7</th>\n",
              "      <th>eeg_f8</th>\n",
              "      <th>eeg_t4</th>\n",
              "      <th>eeg_t6</th>\n",
              "      <th>eeg_t5</th>\n",
              "      <th>eeg_t3</th>\n",
              "      <th>eeg_fp2</th>\n",
              "      <th>eeg_o1</th>\n",
              "      <th>eeg_p3</th>\n",
              "      <th>eeg_pz</th>\n",
              "      <th>eeg_f3</th>\n",
              "      <th>eeg_fz</th>\n",
              "      <th>eeg_f4</th>\n",
              "      <th>eeg_c4</th>\n",
              "      <th>eeg_p4</th>\n",
              "      <th>eeg_poz</th>\n",
              "      <th>eeg_c3</th>\n",
              "      <th>eeg_cz</th>\n",
              "      <th>eeg_o2</th>\n",
              "      <th>ecg</th>\n",
              "      <th>r</th>\n",
              "      <th>gsr</th>\n",
              "      <th>pilot</th>\n",
              "    </tr>\n",
              "  </thead>\n",
              "  <tbody>\n",
              "    <tr>\n",
              "      <th>0</th>\n",
              "      <td>1</td>\n",
              "      <td>2</td>\n",
              "      <td>0.011719</td>\n",
              "      <td>1</td>\n",
              "      <td>0.406790</td>\n",
              "      <td>0.442990</td>\n",
              "      <td>0.431285</td>\n",
              "      <td>0.462933</td>\n",
              "      <td>0.583200</td>\n",
              "      <td>0.532208</td>\n",
              "      <td>0.466463</td>\n",
              "      <td>0.396589</td>\n",
              "      <td>0.611914</td>\n",
              "      <td>0.579883</td>\n",
              "      <td>0.571609</td>\n",
              "      <td>0.501633</td>\n",
              "      <td>0.510864</td>\n",
              "      <td>0.535009</td>\n",
              "      <td>0.593889</td>\n",
              "      <td>0.583052</td>\n",
              "      <td>0.468430</td>\n",
              "      <td>0.579501</td>\n",
              "      <td>0.528516</td>\n",
              "      <td>0.328979</td>\n",
              "      <td>0.266527</td>\n",
              "      <td>0.937234</td>\n",
              "      <td>0.194429</td>\n",
              "      <td>101</td>\n",
              "    </tr>\n",
              "    <tr>\n",
              "      <th>1</th>\n",
              "      <td>1</td>\n",
              "      <td>2</td>\n",
              "      <td>0.015625</td>\n",
              "      <td>1</td>\n",
              "      <td>0.407647</td>\n",
              "      <td>0.443446</td>\n",
              "      <td>0.431339</td>\n",
              "      <td>0.465714</td>\n",
              "      <td>0.582847</td>\n",
              "      <td>0.530859</td>\n",
              "      <td>0.465496</td>\n",
              "      <td>0.396652</td>\n",
              "      <td>0.611371</td>\n",
              "      <td>0.579556</td>\n",
              "      <td>0.571916</td>\n",
              "      <td>0.502388</td>\n",
              "      <td>0.511084</td>\n",
              "      <td>0.535928</td>\n",
              "      <td>0.590943</td>\n",
              "      <td>0.583970</td>\n",
              "      <td>0.468612</td>\n",
              "      <td>0.579852</td>\n",
              "      <td>0.532549</td>\n",
              "      <td>0.329875</td>\n",
              "      <td>0.266527</td>\n",
              "      <td>0.937234</td>\n",
              "      <td>0.194429</td>\n",
              "      <td>101</td>\n",
              "    </tr>\n",
              "    <tr>\n",
              "      <th>2</th>\n",
              "      <td>1</td>\n",
              "      <td>2</td>\n",
              "      <td>0.019531</td>\n",
              "      <td>1</td>\n",
              "      <td>0.411577</td>\n",
              "      <td>0.443994</td>\n",
              "      <td>0.437849</td>\n",
              "      <td>0.474482</td>\n",
              "      <td>0.582929</td>\n",
              "      <td>0.531555</td>\n",
              "      <td>0.467078</td>\n",
              "      <td>0.398478</td>\n",
              "      <td>0.611681</td>\n",
              "      <td>0.580832</td>\n",
              "      <td>0.572533</td>\n",
              "      <td>0.503358</td>\n",
              "      <td>0.511296</td>\n",
              "      <td>0.537211</td>\n",
              "      <td>0.570416</td>\n",
              "      <td>0.583969</td>\n",
              "      <td>0.469919</td>\n",
              "      <td>0.580340</td>\n",
              "      <td>0.532706</td>\n",
              "      <td>0.331117</td>\n",
              "      <td>0.266527</td>\n",
              "      <td>0.937234</td>\n",
              "      <td>0.194429</td>\n",
              "      <td>101</td>\n",
              "    </tr>\n",
              "    <tr>\n",
              "      <th>3</th>\n",
              "      <td>1</td>\n",
              "      <td>2</td>\n",
              "      <td>0.023438</td>\n",
              "      <td>1</td>\n",
              "      <td>0.411811</td>\n",
              "      <td>0.442668</td>\n",
              "      <td>0.434441</td>\n",
              "      <td>0.470692</td>\n",
              "      <td>0.584998</td>\n",
              "      <td>0.531289</td>\n",
              "      <td>0.464828</td>\n",
              "      <td>0.398430</td>\n",
              "      <td>0.612212</td>\n",
              "      <td>0.579607</td>\n",
              "      <td>0.572546</td>\n",
              "      <td>0.502187</td>\n",
              "      <td>0.511643</td>\n",
              "      <td>0.536925</td>\n",
              "      <td>0.584955</td>\n",
              "      <td>0.585729</td>\n",
              "      <td>0.469720</td>\n",
              "      <td>0.578917</td>\n",
              "      <td>0.533475</td>\n",
              "      <td>0.330220</td>\n",
              "      <td>0.266527</td>\n",
              "      <td>0.937234</td>\n",
              "      <td>0.194429</td>\n",
              "      <td>101</td>\n",
              "    </tr>\n",
              "    <tr>\n",
              "      <th>4</th>\n",
              "      <td>1</td>\n",
              "      <td>2</td>\n",
              "      <td>0.027344</td>\n",
              "      <td>1</td>\n",
              "      <td>0.410560</td>\n",
              "      <td>0.442760</td>\n",
              "      <td>0.433829</td>\n",
              "      <td>0.468640</td>\n",
              "      <td>0.584669</td>\n",
              "      <td>0.530168</td>\n",
              "      <td>0.465339</td>\n",
              "      <td>0.397945</td>\n",
              "      <td>0.612437</td>\n",
              "      <td>0.580028</td>\n",
              "      <td>0.573311</td>\n",
              "      <td>0.501743</td>\n",
              "      <td>0.511647</td>\n",
              "      <td>0.536135</td>\n",
              "      <td>0.579242</td>\n",
              "      <td>0.585541</td>\n",
              "      <td>0.469731</td>\n",
              "      <td>0.579360</td>\n",
              "      <td>0.532829</td>\n",
              "      <td>0.331273</td>\n",
              "      <td>0.266527</td>\n",
              "      <td>0.937234</td>\n",
              "      <td>0.194429</td>\n",
              "      <td>101</td>\n",
              "    </tr>\n",
              "  </tbody>\n",
              "</table>\n",
              "</div>"
            ],
            "text/plain": [
              "   crew  experiment      time  seat  ...       ecg         r       gsr  pilot\n",
              "0     1           2  0.011719     1  ...  0.266527  0.937234  0.194429    101\n",
              "1     1           2  0.015625     1  ...  0.266527  0.937234  0.194429    101\n",
              "2     1           2  0.019531     1  ...  0.266527  0.937234  0.194429    101\n",
              "3     1           2  0.023438     1  ...  0.266527  0.937234  0.194429    101\n",
              "4     1           2  0.027344     1  ...  0.266527  0.937234  0.194429    101\n",
              "\n",
              "[5 rows x 28 columns]"
            ]
          },
          "metadata": {
            "tags": []
          },
          "execution_count": 158
        }
      ]
    },
    {
      "cell_type": "code",
      "metadata": {
        "id": "i1LjDc2s1s_p",
        "colab_type": "code",
        "colab": {}
      },
      "source": [
        "sc = MinMaxScaler()\n",
        "for i in feat:\n",
        "  df_test[i] = sc.fit_transform(np.array(df_test[i]).reshape(-1,1))"
      ],
      "execution_count": 159,
      "outputs": []
    },
    {
      "cell_type": "code",
      "metadata": {
        "id": "rNN9PPbK2CSI",
        "colab_type": "code",
        "colab": {}
      },
      "source": [
        "X_train, X_test, y_train, y_test = train_test_split(df_train, y,test_size=0.3, shuffle=False)"
      ],
      "execution_count": 160,
      "outputs": []
    },
    {
      "cell_type": "code",
      "metadata": {
        "id": "7eFS81E-2E9l",
        "colab_type": "code",
        "colab": {}
      },
      "source": [
        "lgbtrain = lgb.Dataset(X_train, y_train,categorical_feature=[1])\n",
        "lgbtest = lgb.Dataset(X_test, y_test,categorical_feature=[1])"
      ],
      "execution_count": 161,
      "outputs": []
    },
    {
      "cell_type": "code",
      "metadata": {
        "id": "gE3ZzuD8ihMr",
        "colab_type": "code",
        "colab": {}
      },
      "source": [
        "params = {\n",
        "        \"objective\" : \"multiclass\",\n",
        "        \"metric\" : \"multi_error\",  \n",
        "        \"boosting\" :'gbdt',        \n",
        "        'num_class':4,             \n",
        "        \"num_leaves\" : 30,         \n",
        "        \"learning_rate\" : 0.01,     \n",
        "        \"bagging_fraction\" : 0.9,  \n",
        "        \"bagging_seed\" : 0,        \n",
        "        \"num_threads\" : 4,\n",
        "        \"colsample_bytree\" : 0.4, \n",
        "        'min_data_in_leaf':100,   \n",
        "        'min_split_gain':0.00015\n",
        "          }\n",
        "\n",
        "model_lgb = lgb.train(params, lgbtrain, 2000, valid_sets=[lgbtrain,lgbtest], early_stopping_rounds=200, verbose_eval=100)"
      ],
      "execution_count": null,
      "outputs": []
    },
    {
      "cell_type": "code",
      "metadata": {
        "id": "dHkmg8qv2L7O",
        "colab_type": "code",
        "colab": {
          "base_uri": "https://localhost:8080/",
          "height": 34
        },
        "outputId": "ea48604b-d018-48e6-c12f-bed1dfcbaae1"
      },
      "source": [
        "predicted_lgb = model_lgb.predict(X_test, num_iteration= model_lgb.best_iteration)\n",
        "print('Log loss',round(log_loss(y_test.to_numpy(),predicted_lgb),8))"
      ],
      "execution_count": 137,
      "outputs": [
        {
          "output_type": "stream",
          "text": [
            "Log loss 0.3020943\n"
          ],
          "name": "stdout"
        }
      ]
    },
    {
      "cell_type": "code",
      "metadata": {
        "id": "GgzzqK5_2OFf",
        "colab_type": "code",
        "colab": {}
      },
      "source": [
        "predicted_lgb = model_lgb.predict(df_test, num_iteration= model_lgb.best_iteration)\n",
        "submission = pd.DataFrame(np.concatenate((np.arange(len(df_test))[:, np.newaxis], predicted_lgb), axis=1), columns=['id', 'A', 'B', 'C', 'D'])\n",
        "submission['id'] = df_test_id.astype(int)\n",
        "submission.to_csv(\"Submission.csv\", index=False)"
      ],
      "execution_count": null,
      "outputs": []
    },
    {
      "cell_type": "code",
      "metadata": {
        "id": "vkVJ424H2QMN",
        "colab_type": "code",
        "colab": {}
      },
      "source": [
        "!kaggle competitions submit -c reducing-commercial-aviation-fatalities -f Submission.csv -m \"Approach 4 parameter tuning\""
      ],
      "execution_count": null,
      "outputs": []
    },
    {
      "cell_type": "markdown",
      "metadata": {
        "id": "vXBnu-_XEiXD",
        "colab_type": "text"
      },
      "source": [
        "*Approach 5*"
      ]
    },
    {
      "cell_type": "code",
      "metadata": {
        "id": "_LtfOIF7Emsy",
        "colab_type": "code",
        "colab": {}
      },
      "source": [
        "df_train['experiment'] = df_train['experiment'].map({'CA': 0, 'DA': 1, 'SS': 3, 'LOFT': 4})\n",
        "df_train[\"experiment\"] = df_train[\"experiment\"].astype('int8')\n",
        "df_train['event'] = df_train['event'].map({'A': 0, 'B': 1, 'C': 2, 'D': 3})\n",
        "df_train[\"event\"] = df_train[\"event\"].astype('int8')\n",
        "y = df_train['event']\n",
        "\n",
        "df_test['experiment'] = df_test['experiment'].map({'CA': 0, 'DA': 1, 'SS': 3, 'LOFT': 4})\n",
        "df_test[\"experiment\"] = df_test[\"experiment\"].astype('int8')"
      ],
      "execution_count": 51,
      "outputs": []
    },
    {
      "cell_type": "code",
      "metadata": {
        "id": "YIQbeQ4oEmZw",
        "colab_type": "code",
        "colab": {}
      },
      "source": [
        "feat = ['eeg_fp1', 'eeg_f7', 'eeg_f8',\n",
        "       'eeg_t4', 'eeg_t6', 'eeg_t5', 'eeg_t3', 'eeg_fp2', 'eeg_o1', 'eeg_p3',\n",
        "       'eeg_pz', 'eeg_f3', 'eeg_fz', 'eeg_f4', 'eeg_c4', 'eeg_p4', 'eeg_poz',\n",
        "       'eeg_c3', 'eeg_cz', 'eeg_o2', 'ecg', 'r', 'gsr']"
      ],
      "execution_count": 52,
      "outputs": []
    },
    {
      "cell_type": "code",
      "metadata": {
        "id": "mlhIijhoEneE",
        "colab_type": "code",
        "colab": {
          "base_uri": "https://localhost:8080/",
          "height": 224
        },
        "outputId": "432db4a4-d9fb-4afe-8b2d-e003a3796c09"
      },
      "source": [
        "sc = MinMaxScaler()\n",
        "for i in feat:\n",
        "  df_train[i] = sc.fit_transform(np.array(df_train[i]).reshape(-1,1))\n",
        "df_train.head()"
      ],
      "execution_count": 53,
      "outputs": [
        {
          "output_type": "execute_result",
          "data": {
            "text/html": [
              "<div>\n",
              "<style scoped>\n",
              "    .dataframe tbody tr th:only-of-type {\n",
              "        vertical-align: middle;\n",
              "    }\n",
              "\n",
              "    .dataframe tbody tr th {\n",
              "        vertical-align: top;\n",
              "    }\n",
              "\n",
              "    .dataframe thead th {\n",
              "        text-align: right;\n",
              "    }\n",
              "</style>\n",
              "<table border=\"1\" class=\"dataframe\">\n",
              "  <thead>\n",
              "    <tr style=\"text-align: right;\">\n",
              "      <th></th>\n",
              "      <th>crew</th>\n",
              "      <th>experiment</th>\n",
              "      <th>time</th>\n",
              "      <th>seat</th>\n",
              "      <th>eeg_fp1</th>\n",
              "      <th>eeg_f7</th>\n",
              "      <th>eeg_f8</th>\n",
              "      <th>eeg_t4</th>\n",
              "      <th>eeg_t6</th>\n",
              "      <th>eeg_t5</th>\n",
              "      <th>eeg_t3</th>\n",
              "      <th>eeg_fp2</th>\n",
              "      <th>eeg_o1</th>\n",
              "      <th>eeg_p3</th>\n",
              "      <th>eeg_pz</th>\n",
              "      <th>eeg_f3</th>\n",
              "      <th>eeg_fz</th>\n",
              "      <th>eeg_f4</th>\n",
              "      <th>eeg_c4</th>\n",
              "      <th>eeg_p4</th>\n",
              "      <th>eeg_poz</th>\n",
              "      <th>eeg_c3</th>\n",
              "      <th>eeg_cz</th>\n",
              "      <th>eeg_o2</th>\n",
              "      <th>ecg</th>\n",
              "      <th>r</th>\n",
              "      <th>gsr</th>\n",
              "      <th>event</th>\n",
              "    </tr>\n",
              "  </thead>\n",
              "  <tbody>\n",
              "    <tr>\n",
              "      <th>0</th>\n",
              "      <td>1</td>\n",
              "      <td>0</td>\n",
              "      <td>0.011719</td>\n",
              "      <td>1</td>\n",
              "      <td>0.406790</td>\n",
              "      <td>0.442990</td>\n",
              "      <td>0.431285</td>\n",
              "      <td>0.462933</td>\n",
              "      <td>0.583200</td>\n",
              "      <td>0.532208</td>\n",
              "      <td>0.466463</td>\n",
              "      <td>0.396589</td>\n",
              "      <td>0.611914</td>\n",
              "      <td>0.579883</td>\n",
              "      <td>0.571609</td>\n",
              "      <td>0.501633</td>\n",
              "      <td>0.510864</td>\n",
              "      <td>0.535009</td>\n",
              "      <td>0.593889</td>\n",
              "      <td>0.583052</td>\n",
              "      <td>0.468430</td>\n",
              "      <td>0.579501</td>\n",
              "      <td>0.528516</td>\n",
              "      <td>0.328979</td>\n",
              "      <td>0.266527</td>\n",
              "      <td>0.937234</td>\n",
              "      <td>0.194429</td>\n",
              "      <td>0</td>\n",
              "    </tr>\n",
              "    <tr>\n",
              "      <th>1</th>\n",
              "      <td>1</td>\n",
              "      <td>0</td>\n",
              "      <td>0.015625</td>\n",
              "      <td>1</td>\n",
              "      <td>0.407647</td>\n",
              "      <td>0.443446</td>\n",
              "      <td>0.431339</td>\n",
              "      <td>0.465714</td>\n",
              "      <td>0.582847</td>\n",
              "      <td>0.530859</td>\n",
              "      <td>0.465496</td>\n",
              "      <td>0.396652</td>\n",
              "      <td>0.611371</td>\n",
              "      <td>0.579556</td>\n",
              "      <td>0.571916</td>\n",
              "      <td>0.502388</td>\n",
              "      <td>0.511084</td>\n",
              "      <td>0.535928</td>\n",
              "      <td>0.590943</td>\n",
              "      <td>0.583970</td>\n",
              "      <td>0.468612</td>\n",
              "      <td>0.579852</td>\n",
              "      <td>0.532549</td>\n",
              "      <td>0.329875</td>\n",
              "      <td>0.266527</td>\n",
              "      <td>0.937234</td>\n",
              "      <td>0.194429</td>\n",
              "      <td>0</td>\n",
              "    </tr>\n",
              "    <tr>\n",
              "      <th>2</th>\n",
              "      <td>1</td>\n",
              "      <td>0</td>\n",
              "      <td>0.019531</td>\n",
              "      <td>1</td>\n",
              "      <td>0.411577</td>\n",
              "      <td>0.443994</td>\n",
              "      <td>0.437849</td>\n",
              "      <td>0.474482</td>\n",
              "      <td>0.582929</td>\n",
              "      <td>0.531555</td>\n",
              "      <td>0.467078</td>\n",
              "      <td>0.398478</td>\n",
              "      <td>0.611681</td>\n",
              "      <td>0.580832</td>\n",
              "      <td>0.572533</td>\n",
              "      <td>0.503358</td>\n",
              "      <td>0.511296</td>\n",
              "      <td>0.537211</td>\n",
              "      <td>0.570416</td>\n",
              "      <td>0.583969</td>\n",
              "      <td>0.469919</td>\n",
              "      <td>0.580340</td>\n",
              "      <td>0.532706</td>\n",
              "      <td>0.331117</td>\n",
              "      <td>0.266527</td>\n",
              "      <td>0.937234</td>\n",
              "      <td>0.194429</td>\n",
              "      <td>0</td>\n",
              "    </tr>\n",
              "    <tr>\n",
              "      <th>3</th>\n",
              "      <td>1</td>\n",
              "      <td>0</td>\n",
              "      <td>0.023438</td>\n",
              "      <td>1</td>\n",
              "      <td>0.411811</td>\n",
              "      <td>0.442668</td>\n",
              "      <td>0.434441</td>\n",
              "      <td>0.470692</td>\n",
              "      <td>0.584998</td>\n",
              "      <td>0.531289</td>\n",
              "      <td>0.464828</td>\n",
              "      <td>0.398430</td>\n",
              "      <td>0.612212</td>\n",
              "      <td>0.579607</td>\n",
              "      <td>0.572546</td>\n",
              "      <td>0.502187</td>\n",
              "      <td>0.511643</td>\n",
              "      <td>0.536925</td>\n",
              "      <td>0.584955</td>\n",
              "      <td>0.585729</td>\n",
              "      <td>0.469720</td>\n",
              "      <td>0.578917</td>\n",
              "      <td>0.533475</td>\n",
              "      <td>0.330220</td>\n",
              "      <td>0.266527</td>\n",
              "      <td>0.937234</td>\n",
              "      <td>0.194429</td>\n",
              "      <td>0</td>\n",
              "    </tr>\n",
              "    <tr>\n",
              "      <th>4</th>\n",
              "      <td>1</td>\n",
              "      <td>0</td>\n",
              "      <td>0.027344</td>\n",
              "      <td>1</td>\n",
              "      <td>0.410560</td>\n",
              "      <td>0.442760</td>\n",
              "      <td>0.433829</td>\n",
              "      <td>0.468640</td>\n",
              "      <td>0.584669</td>\n",
              "      <td>0.530168</td>\n",
              "      <td>0.465339</td>\n",
              "      <td>0.397945</td>\n",
              "      <td>0.612437</td>\n",
              "      <td>0.580028</td>\n",
              "      <td>0.573311</td>\n",
              "      <td>0.501743</td>\n",
              "      <td>0.511647</td>\n",
              "      <td>0.536135</td>\n",
              "      <td>0.579242</td>\n",
              "      <td>0.585541</td>\n",
              "      <td>0.469731</td>\n",
              "      <td>0.579360</td>\n",
              "      <td>0.532829</td>\n",
              "      <td>0.331273</td>\n",
              "      <td>0.266527</td>\n",
              "      <td>0.937234</td>\n",
              "      <td>0.194429</td>\n",
              "      <td>0</td>\n",
              "    </tr>\n",
              "  </tbody>\n",
              "</table>\n",
              "</div>"
            ],
            "text/plain": [
              "   crew  experiment      time  seat  ...       ecg         r       gsr  event\n",
              "0     1           0  0.011719     1  ...  0.266527  0.937234  0.194429      0\n",
              "1     1           0  0.015625     1  ...  0.266527  0.937234  0.194429      0\n",
              "2     1           0  0.019531     1  ...  0.266527  0.937234  0.194429      0\n",
              "3     1           0  0.023438     1  ...  0.266527  0.937234  0.194429      0\n",
              "4     1           0  0.027344     1  ...  0.266527  0.937234  0.194429      0\n",
              "\n",
              "[5 rows x 28 columns]"
            ]
          },
          "metadata": {
            "tags": []
          },
          "execution_count": 53
        }
      ]
    },
    {
      "cell_type": "code",
      "metadata": {
        "id": "vJgQijI6FVN7",
        "colab_type": "code",
        "colab": {}
      },
      "source": [
        "sc = MinMaxScaler()\n",
        "for i in feat:\n",
        "  df_test[i] = sc.fit_transform(np.array(df_test[i]).reshape(-1,1))"
      ],
      "execution_count": 54,
      "outputs": []
    },
    {
      "cell_type": "code",
      "metadata": {
        "id": "FxlWv_1Ub2Rq",
        "colab_type": "code",
        "colab": {}
      },
      "source": [
        "tr_col = df_train.columns"
      ],
      "execution_count": 55,
      "outputs": []
    },
    {
      "cell_type": "code",
      "metadata": {
        "id": "Nqtcf7b0GVl_",
        "colab_type": "code",
        "colab": {}
      },
      "source": [
        "df_train,y = SMOTE().fit_resample(df_train,y.ravel())\n",
        "df_train = pd.DataFrame(df_train)"
      ],
      "execution_count": 56,
      "outputs": []
    },
    {
      "cell_type": "code",
      "metadata": {
        "id": "3qgHvuvIb-OD",
        "colab_type": "code",
        "colab": {}
      },
      "source": [
        "df_train.columns = tr_col"
      ],
      "execution_count": 57,
      "outputs": []
    },
    {
      "cell_type": "code",
      "metadata": {
        "id": "ipgql8ZkFqf4",
        "colab_type": "code",
        "colab": {}
      },
      "source": [
        "X_train, X_test, y_train, y_test = train_test_split(df_train, y,test_size=0.25, shuffle=False)"
      ],
      "execution_count": 58,
      "outputs": []
    },
    {
      "cell_type": "code",
      "metadata": {
        "id": "0df7bObdFv9N",
        "colab_type": "code",
        "colab": {}
      },
      "source": [
        "lgbtrain = lgb.Dataset(X_train, y_train,categorical_feature=[1])\n",
        "lgbtest = lgb.Dataset(X_test, y_test,categorical_feature=[1])"
      ],
      "execution_count": 59,
      "outputs": []
    },
    {
      "cell_type": "code",
      "metadata": {
        "id": "5W28tvMCGga9",
        "colab_type": "code",
        "colab": {
          "base_uri": "https://localhost:8080/",
          "height": 102
        },
        "outputId": "df627ccf-83e8-4142-8bc0-a99969419915"
      },
      "source": [
        "params = {\n",
        "        \"objective\" : \"multiclass\",\n",
        "        \"metric\" : \"multi_error\",  \n",
        "        \"boosting\" :'gbdt',        \n",
        "        'num_class':4,             \n",
        "        \"num_leaves\" : 30,         \n",
        "        \"learning_rate\" : 0.06,     \n",
        "        \"bagging_fraction\" : 0.9,  \n",
        "        \"bagging_seed\" : 0,        \n",
        "        \"num_threads\" : 4,\n",
        "        \"colsample_bytree\" : 0.4, \n",
        "        'min_data_in_leaf':100,   \n",
        "        'min_split_gain':0.00015\n",
        "          }\n",
        "\n",
        "\n",
        "model_lgb2 = lgb.train(params, lgbtrain, 2000, valid_sets=[lgbtrain,lgbtest], early_stopping_rounds=200, verbose_eval=100)\n"
      ],
      "execution_count": 60,
      "outputs": [
        {
          "output_type": "stream",
          "text": [
            "Training until validation scores don't improve for 200 rounds.\n",
            "[100]\ttraining's multi_error: 0\tvalid_1's multi_error: 0\n",
            "[200]\ttraining's multi_error: 0\tvalid_1's multi_error: 0\n",
            "Early stopping, best iteration is:\n",
            "[85]\ttraining's multi_error: 0\tvalid_1's multi_error: 0\n"
          ],
          "name": "stdout"
        }
      ]
    },
    {
      "cell_type": "code",
      "metadata": {
        "id": "X1Ov0FprGqrW",
        "colab_type": "code",
        "colab": {}
      },
      "source": [
        "predicted_lgb = model_lgb2.predict(df_test, num_iteration= model_lgb2.best_iteration)\n",
        "submission = pd.DataFrame(np.concatenate((np.arange(len(df_test))[:, np.newaxis], predicted_lgb), axis=1), columns=['id', 'A', 'B', 'C', 'D'])\n",
        "submission['id'] = df_test_id.astype(int)\n",
        "submission.to_csv(\"Submission.csv\", index=False)"
      ],
      "execution_count": null,
      "outputs": []
    },
    {
      "cell_type": "code",
      "metadata": {
        "id": "qJBbOIYyGwj0",
        "colab_type": "code",
        "colab": {}
      },
      "source": [
        "!kaggle competitions submit -c reducing-commercial-aviation-fatalities -f Submission.csv -m \"Approach 5 parameter tuning test with smote\""
      ],
      "execution_count": null,
      "outputs": []
    }
  ]
}